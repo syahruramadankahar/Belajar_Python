{
 "cells": [
  {
   "cell_type": "markdown",
   "id": "a89cf977-3799-434b-9791-4b270fb94c04",
   "metadata": {},
   "source": [
    "# BELAJAR PYTHON TEKOM F 2024"
   ]
  },
  {
   "cell_type": "markdown",
   "id": "f0036022-5f10-4eab-8f97-7f80973c07be",
   "metadata": {},
   "source": [
    "## Percobaan 1 Comments"
   ]
  },
  {
   "cell_type": "code",
   "execution_count": null,
   "id": "539cce6a-d7f6-47b0-b8fd-58da1d4b84d2",
   "metadata": {},
   "outputs": [],
   "source": [
    "#Creating a Comment\n",
    "#This is a comment\n",
    "print(\"Hello, World!\")\n",
    "\n",
    "print(\"Hello, World!\") #This is a comment\n",
    "\n",
    "#print(\"Hello, World!\")\n",
    "print(\"Cheers, Mate!\")\n",
    "\n",
    "\n",
    "\n",
    "#Multiline Comments\n",
    "#This is a comment\n",
    "#written in\n",
    "#more than just one line\n",
    "print(\"Hello, World!\")\n",
    "\n",
    "\"\"\"\n",
    "This is a comment\n",
    "written in\n",
    "more than just one line\n",
    "\"\"\"\n",
    "print(\"Hello, World!\")"
   ]
  },
  {
   "cell_type": "markdown",
   "id": "b22195da-bed4-4950-a31b-e3354b684eb7",
   "metadata": {},
   "source": [
    "## Percobaan 2 Variables"
   ]
  },
  {
   "cell_type": "markdown",
   "id": "9804c5fe-6693-4db8-8d50-49535a7cc250",
   "metadata": {},
   "source": [
    "### 1.Python Variabel"
   ]
  },
  {
   "cell_type": "code",
   "execution_count": null,
   "id": "919173b8-b9ae-41df-8c71-06eedb7565c3",
   "metadata": {},
   "outputs": [],
   "source": [
    "x = 5\n",
    "y = \"John\"\n",
    "print(x)\n",
    "print(y)\n",
    "\n",
    "x = 4       # x is of type int\n",
    "x = \"Sally\" # x is now of type str\n",
    "print(x)"
   ]
  },
  {
   "cell_type": "code",
   "execution_count": null,
   "id": "f94c7237-64b6-4de9-a3b8-2237cd8eb1dc",
   "metadata": {},
   "outputs": [],
   "source": [
    "x = str(3)    # x will be '3'\n",
    "y = int(3)    # y will be 3\n",
    "z = float(3)  # z will be 3.0"
   ]
  },
  {
   "cell_type": "code",
   "execution_count": null,
   "id": "d2347e5f-9f2a-45ab-89f3-37d5fae70166",
   "metadata": {},
   "outputs": [],
   "source": [
    "x = 5\n",
    "y = \"John\"\n",
    "print(type(x))\n",
    "print(type(y))"
   ]
  },
  {
   "cell_type": "code",
   "execution_count": null,
   "id": "a31e6249-5f48-4070-8ebe-dd64c0eaae9e",
   "metadata": {},
   "outputs": [],
   "source": [
    "x = \"John\"\n",
    "# is the same as\n",
    "x = 'John'"
   ]
  },
  {
   "cell_type": "code",
   "execution_count": null,
   "id": "90854de4-bfa0-4fd8-a4ec-edc7575db1a8",
   "metadata": {},
   "outputs": [],
   "source": [
    "a = 4\n",
    "A = \"Sally\"\n",
    "#A will not overwrite a"
   ]
  },
  {
   "cell_type": "markdown",
   "id": "0ffc0b54-64bf-42f9-b392-33d45cb730c4",
   "metadata": {},
   "source": [
    "### 2.Variabel Names"
   ]
  },
  {
   "cell_type": "code",
   "execution_count": null,
   "id": "5f2eb5c2-75ad-4b1b-9751-bdcd18c70125",
   "metadata": {},
   "outputs": [],
   "source": [
    "myvar = \"John\"\n",
    "my_var = \"John\"\n",
    "_my_var = \"John\"\n",
    "myVar = \"John\"\n",
    "MYVAR = \"John\"\n",
    "myvar2 = \"John\""
   ]
  },
  {
   "cell_type": "code",
   "execution_count": null,
   "id": "6f9c29f7-2084-4a4e-9a61-c505d64d9bc0",
   "metadata": {},
   "outputs": [],
   "source": [
    "2myvar = \"John\"\n",
    "my-var = \"John\"\n",
    "my var = \"John\""
   ]
  },
  {
   "cell_type": "code",
   "execution_count": null,
   "id": "f3d4a5d0-f9a0-4778-94ee-942123087373",
   "metadata": {},
   "outputs": [],
   "source": [
    "myVariableName = \"John\"\n",
    "MyVariableName = \"John\"\n",
    "my_variable_name = \"John\""
   ]
  },
  {
   "cell_type": "markdown",
   "id": "bbcef8fe-9816-4ae3-be1c-c96cae4469a1",
   "metadata": {},
   "source": [
    "### 3.Assign Multiple"
   ]
  },
  {
   "cell_type": "code",
   "execution_count": null,
   "id": "641af51f-5a8e-48d8-afd6-d9699958e428",
   "metadata": {},
   "outputs": [],
   "source": [
    "x, y, z = \"Orange\", \"Banana\", \"Cherry\"\n",
    "print(x)\n",
    "print(y)\n",
    "print(z)"
   ]
  },
  {
   "cell_type": "code",
   "execution_count": null,
   "id": "348b4bd6-de65-4ef1-8412-fd9bdf43d363",
   "metadata": {},
   "outputs": [],
   "source": [
    "x = y = z = \"Orange\"\n",
    "print(x)\n",
    "print(y)\n",
    "print(z)"
   ]
  },
  {
   "cell_type": "code",
   "execution_count": null,
   "id": "ce21f191-dae4-4ae7-baae-00cdb7b5a1be",
   "metadata": {},
   "outputs": [],
   "source": [
    "fruits = [\"apple\", \"banana\", \"cherry\"]\n",
    "x, y, z = fruits\n",
    "print(x)\n",
    "print(y)\n",
    "print(z)"
   ]
  },
  {
   "cell_type": "markdown",
   "id": "cfd945c9-b10a-4f43-9f6b-1ce0c78cc728",
   "metadata": {},
   "source": [
    "### 4.Output Variabel"
   ]
  },
  {
   "cell_type": "code",
   "execution_count": null,
   "id": "c355c501-3e49-4a7c-b235-c6a9f4063bd7",
   "metadata": {},
   "outputs": [],
   "source": [
    "x = \"Python is awesome\"\n",
    "print(x)\n",
    "\n",
    "x = \"Python\"\n",
    "y = \"is\"\n",
    "z = \"awesome\"\n",
    "print(x, y, z)\n",
    "\n",
    "x = \"Python \"\n",
    "y = \"is \"\n",
    "z = \"awesome\"\n",
    "print(x + y + z)\n",
    "\n",
    "x = 5\n",
    "y = 10\n",
    "print(x + y)\n",
    "\n",
    "x = 5\n",
    "y = \"John\"\n",
    "print(x, y)"
   ]
  },
  {
   "cell_type": "code",
   "execution_count": null,
   "id": "7c800af3-af44-42b2-8a3f-d0831709d8c1",
   "metadata": {},
   "outputs": [],
   "source": [
    "x = 5\n",
    "y = \"John\"\n",
    "print(x + y)"
   ]
  },
  {
   "cell_type": "markdown",
   "id": "036f7f7f-b0e2-4498-97cf-0e4722ba3c61",
   "metadata": {},
   "source": [
    "### 5.Global Variabel"
   ]
  },
  {
   "cell_type": "code",
   "execution_count": null,
   "id": "0a7225b5-97f0-4823-85a4-2aaa6d94b64a",
   "metadata": {},
   "outputs": [],
   "source": [
    "x = \"awesome\"\n",
    "\n",
    "def myfunc():\n",
    "  print(\"Python is \" + x)\n",
    "\n",
    "myfunc()\n",
    "\n",
    "x = \"awesome\"\n",
    "\n",
    "def myfunc():\n",
    "  x = \"fantastic\"\n",
    "  print(\"Python is \" + x)\n",
    "\n",
    "myfunc()\n",
    "\n",
    "print(\"Python is \" + x)"
   ]
  },
  {
   "cell_type": "code",
   "execution_count": null,
   "id": "fdcecf80-160b-460a-8f8e-5909f9ea856d",
   "metadata": {},
   "outputs": [],
   "source": [
    "def myfunc():\n",
    "  global x\n",
    "  x = \"fantastic\"\n",
    "\n",
    "myfunc()\n",
    "\n",
    "print(\"Python is \" + x)\n",
    "\n",
    "x = \"awesome\"\n",
    "\n",
    "def myfunc():\n",
    "  global x\n",
    "  x = \"fantastic\"\n",
    "\n",
    "myfunc()\n",
    "\n",
    "print(\"Python is \" + x)"
   ]
  },
  {
   "cell_type": "markdown",
   "id": "785b64ca-e2c1-4f33-9288-bc9908f7b46e",
   "metadata": {},
   "source": [
    "## Percobaan 3 Type Data"
   ]
  },
  {
   "cell_type": "code",
   "execution_count": null,
   "id": "cfa80cfd-6110-44db-bd9c-fce1d89abf88",
   "metadata": {},
   "outputs": [],
   "source": [
    "x = 5\n",
    "print(type(x))"
   ]
  },
  {
   "cell_type": "markdown",
   "id": "6bb7dace-08b0-4706-8245-ad4f4eab3cce",
   "metadata": {},
   "source": [
    "## Percobaan 4 Numbers"
   ]
  },
  {
   "cell_type": "code",
   "execution_count": null,
   "id": "7cd81a2d-cb4b-41b8-b830-f3324252d0bd",
   "metadata": {},
   "outputs": [],
   "source": [
    "x = 1    # int\n",
    "y = 2.8  # float\n",
    "z = 1j   # complex\n",
    "\n",
    "print(type(x))\n",
    "print(type(y))\n",
    "print(type(z))"
   ]
  },
  {
   "cell_type": "code",
   "execution_count": null,
   "id": "b9960fdc-5bf1-443b-a535-ea77ea01dddb",
   "metadata": {},
   "outputs": [],
   "source": [
    "x = 1\n",
    "y = 35656222554887711\n",
    "z = -3255522\n",
    "\n",
    "print(type(x))\n",
    "print(type(y))\n",
    "print(type(z))"
   ]
  },
  {
   "cell_type": "code",
   "execution_count": null,
   "id": "b068ee34-e624-4e5a-9785-96e168f47cc7",
   "metadata": {},
   "outputs": [],
   "source": [
    "x = 1.10\n",
    "y = 1.0\n",
    "z = -35.59\n",
    "\n",
    "print(type(x))\n",
    "print(type(y))\n",
    "print(type(z))\n",
    "\n",
    "x = 35e3\n",
    "y = 12E4\n",
    "z = -87.7e100\n",
    "\n",
    "print(type(x))\n",
    "print(type(y))\n",
    "print(type(z))"
   ]
  },
  {
   "cell_type": "code",
   "execution_count": null,
   "id": "3476d261-4119-4e14-86ec-9c4416012316",
   "metadata": {},
   "outputs": [],
   "source": [
    "x = 3+5j\n",
    "y = 5j\n",
    "z = -5j\n",
    "\n",
    "print(type(x))\n",
    "print(type(y))\n",
    "print(type(z))"
   ]
  },
  {
   "cell_type": "code",
   "execution_count": null,
   "id": "1a0babe8-642d-4632-8987-ce9dd3511b9f",
   "metadata": {},
   "outputs": [],
   "source": [
    "x = 1    # int\n",
    "y = 2.8  # float\n",
    "z = 1j   # complex\n",
    "\n",
    "#convert from int to float:\n",
    "a = float(x)\n",
    "\n",
    "#convert from float to int:\n",
    "b = int(y)\n",
    "\n",
    "#convert from int to complex:\n",
    "c = complex(x)\n",
    "\n",
    "print(a)\n",
    "print(b)\n",
    "print(c)\n",
    "\n",
    "print(type(a))\n",
    "print(type(b))\n",
    "print(type(c))"
   ]
  },
  {
   "cell_type": "code",
   "execution_count": null,
   "id": "b3170f2c-cae3-450e-97f1-009790eae841",
   "metadata": {},
   "outputs": [],
   "source": [
    "import random\n",
    "\n",
    "print(random.randrange(1, 10))"
   ]
  },
  {
   "cell_type": "markdown",
   "id": "f4bd11f3-d7bf-47a0-b5a2-e376f298608a",
   "metadata": {},
   "source": [
    "## Percobaan 5 Casting"
   ]
  },
  {
   "cell_type": "code",
   "execution_count": null,
   "id": "9718e9f8-6552-4edc-8be8-41477e3f4d9f",
   "metadata": {},
   "outputs": [],
   "source": [
    "x = int(1)   # x will be 1\n",
    "y = int(2.8) # y will be 2\n",
    "z = int(\"3\") # z will be 3"
   ]
  },
  {
   "cell_type": "code",
   "execution_count": null,
   "id": "9bff350c-0674-462d-ba45-77a769d1131c",
   "metadata": {},
   "outputs": [],
   "source": [
    "x = float(1)     # x will be 1.0\n",
    "y = float(2.8)   # y will be 2.8\n",
    "z = float(\"3\")   # z will be 3.0\n",
    "w = float(\"4.2\") # w will be 4.2"
   ]
  },
  {
   "cell_type": "code",
   "execution_count": null,
   "id": "be9eca92-4b5f-40b2-9446-d9122a49e41c",
   "metadata": {},
   "outputs": [],
   "source": [
    "x = str(\"s1\") # x will be 's1'\n",
    "y = str(2)    # y will be '2'\n",
    "z = str(3.0)  # z will be '3.0'"
   ]
  },
  {
   "cell_type": "markdown",
   "id": "1d57d592-36fd-43ee-adf1-9e703f2621d8",
   "metadata": {},
   "source": [
    "## Percobaan 6 Strings"
   ]
  },
  {
   "cell_type": "markdown",
   "id": "61bcdb49-83ab-48b5-ac9e-5b0596de3c09",
   "metadata": {},
   "source": [
    "### 1. Python String"
   ]
  },
  {
   "cell_type": "markdown",
   "id": "2561eb6a-250d-4221-81b1-403a5be1a50a",
   "metadata": {},
   "source": [
    "### 2. Slicing String"
   ]
  },
  {
   "cell_type": "markdown",
   "id": "d0fc7d39-e4d7-4e34-88a4-24148dcef2e3",
   "metadata": {},
   "source": [
    "### 3. Modify String"
   ]
  },
  {
   "cell_type": "markdown",
   "id": "e43c0f29-b0b5-4ff5-9af6-75f643f2b096",
   "metadata": {},
   "source": [
    "### 4. Concatenate String"
   ]
  },
  {
   "cell_type": "markdown",
   "id": "19c6c2bc-c2a1-41e7-966e-0ea1c8ae6cc5",
   "metadata": {},
   "source": [
    "### 5. Format String"
   ]
  },
  {
   "cell_type": "markdown",
   "id": "c282a021-fe79-49b0-9285-c84436be7e68",
   "metadata": {},
   "source": [
    "### 6. Escape String"
   ]
  },
  {
   "cell_type": "markdown",
   "id": "41dac9f0-bd66-43c3-afa1-37bc6e6017db",
   "metadata": {},
   "source": [
    "## Percobaan 7 Boolean"
   ]
  },
  {
   "cell_type": "markdown",
   "id": "fb2d1197-654a-4f24-993a-535c300d454e",
   "metadata": {},
   "source": [
    "## Percobaan 8 Operator"
   ]
  },
  {
   "cell_type": "markdown",
   "id": "ebb68353-71dd-4027-9ecd-f2f15e84b388",
   "metadata": {},
   "source": [
    "### 1. Python Operator"
   ]
  },
  {
   "cell_type": "markdown",
   "id": "bd69b69b-247d-4323-9d72-72d27e750275",
   "metadata": {},
   "source": [
    "### 2. Operator Aritmatika"
   ]
  },
  {
   "cell_type": "markdown",
   "id": "a9c9b92d-4478-43e6-ad68-928a1fbe65ab",
   "metadata": {},
   "source": [
    "### 3. Operator Penugasan"
   ]
  },
  {
   "cell_type": "markdown",
   "id": "e4a76ba4-d721-4900-8e05-0a8f3a4434bc",
   "metadata": {},
   "source": [
    "### 4. Operator Perbandingan"
   ]
  },
  {
   "cell_type": "markdown",
   "id": "58d000e6-d860-466b-b64f-f15385ce53ea",
   "metadata": {},
   "source": [
    "### 5. Operator Logika"
   ]
  },
  {
   "cell_type": "markdown",
   "id": "d884ceab-94ec-4e2e-a25c-826b11f1c024",
   "metadata": {},
   "source": [
    "### 6. Operator Identitas"
   ]
  },
  {
   "cell_type": "markdown",
   "id": "8fd8920b-0391-4748-90ef-0341c273cb03",
   "metadata": {},
   "source": [
    "### 7. Operator Keanggotaan"
   ]
  },
  {
   "cell_type": "markdown",
   "id": "a32020b5-b208-44a6-be7e-9704785d671f",
   "metadata": {},
   "source": [
    "### 8. Operator Bitwise"
   ]
  },
  {
   "cell_type": "markdown",
   "id": "1936a48b-165e-4f64-982d-682c6fb0e4bb",
   "metadata": {},
   "source": [
    "### 9. Prioritas Operator"
   ]
  },
  {
   "cell_type": "markdown",
   "id": "a6ce218b-9221-49fc-ada6-7577c31e5524",
   "metadata": {},
   "source": [
    "## Percobaan 9 If Else"
   ]
  },
  {
   "cell_type": "markdown",
   "id": "e10e1444-87d4-4431-8d47-8c6e5ad0df61",
   "metadata": {},
   "source": [
    "### 1. If"
   ]
  },
  {
   "cell_type": "markdown",
   "id": "3a13d5d7-6c05-492c-bb18-3cf21cb727f3",
   "metadata": {},
   "source": [
    "### 2. Elif"
   ]
  },
  {
   "cell_type": "markdown",
   "id": "bbd064f8-f333-405b-acb7-158b4ce763b1",
   "metadata": {},
   "source": [
    "### 3. Else"
   ]
  },
  {
   "cell_type": "markdown",
   "id": "e43272a5-e6d3-4785-860c-545b974a6a9b",
   "metadata": {},
   "source": [
    "### 4. Shorthand If"
   ]
  },
  {
   "cell_type": "markdown",
   "id": "e5a9f257-99b1-4b9d-a920-a167e41db0b5",
   "metadata": {},
   "source": [
    "### 5. Logical Operator"
   ]
  },
  {
   "cell_type": "markdown",
   "id": "6c59a3fa-914a-4d9c-96d8-dec2abe72a55",
   "metadata": {},
   "source": [
    "### 6. Nested If"
   ]
  },
  {
   "cell_type": "markdown",
   "id": "f2efaf9d-add0-4382-b9cb-510ee5432515",
   "metadata": {},
   "source": [
    "### 7. Pass Statement"
   ]
  },
  {
   "cell_type": "markdown",
   "id": "2e5db841-23e6-4790-ac4f-41fdb0065c70",
   "metadata": {},
   "source": [
    "## Percobaan 10 Match"
   ]
  },
  {
   "cell_type": "code",
   "execution_count": null,
   "id": "7da6a214-194b-4770-83c1-5c00fd1036f2",
   "metadata": {},
   "outputs": [],
   "source": [
    "day = 4\n",
    "match day:\n",
    "  case 1:\n",
    "    print(\"Monday\")\n",
    "  case 2:\n",
    "    print(\"Tuesday\")\n",
    "  case 3:\n",
    "    print(\"Wednesday\")\n",
    "  case 4:\n",
    "    print(\"Thursday\")\n",
    "  case 5:\n",
    "    print(\"Friday\")\n",
    "  case 6:\n",
    "    print(\"Saturday\")\n",
    "  case 7:\n",
    "    print(\"Sunday\")"
   ]
  },
  {
   "cell_type": "code",
   "execution_count": null,
   "id": "3754ac2c-47e0-45f7-a7de-1a8f1c36fb08",
   "metadata": {},
   "outputs": [],
   "source": [
    "# Default Value\n",
    "day = 4\n",
    "match day:\n",
    "  case 6:\n",
    "    print(\"Today is Saturday\")\n",
    "  case 7:\n",
    "    print(\"Today is Sunday\")\n",
    "  case _:\n",
    "    print(\"Looking forward to the Weekend\")"
   ]
  },
  {
   "cell_type": "code",
   "execution_count": null,
   "id": "dd3fa535-15dd-4fbf-bc43-117fa389a3bd",
   "metadata": {},
   "outputs": [],
   "source": [
    "# Combine Values\n",
    "day = 4\n",
    "match day:\n",
    "  case 1 | 2 | 3 | 4 | 5:\n",
    "    print(\"Today is a weekday\")\n",
    "  case 6 | 7:\n",
    "    print(\"I love weekends!\")"
   ]
  },
  {
   "cell_type": "code",
   "execution_count": null,
   "id": "fac1ba4f-3dbe-4392-9107-9b3685b03506",
   "metadata": {},
   "outputs": [],
   "source": [
    "# If Statements as Guards\n",
    "month = 5\n",
    "day = 4\n",
    "match day:\n",
    "  case 1 | 2 | 3 | 4 | 5 if month == 4:\n",
    "    print(\"A weekday in April\")\n",
    "  case 1 | 2 | 3 | 4 | 5 if month == 5:\n",
    "    print(\"A weekday in May\")\n",
    "  case _:\n",
    "    print(\"No match\")"
   ]
  }
 ],
 "metadata": {
  "kernelspec": {
   "display_name": "Python 3 (ipykernel)",
   "language": "python",
   "name": "python3"
  },
  "language_info": {
   "codemirror_mode": {
    "name": "ipython",
    "version": 3
   },
   "file_extension": ".py",
   "mimetype": "text/x-python",
   "name": "python",
   "nbconvert_exporter": "python",
   "pygments_lexer": "ipython3",
   "version": "3.13.5"
  }
 },
 "nbformat": 4,
 "nbformat_minor": 5
}
