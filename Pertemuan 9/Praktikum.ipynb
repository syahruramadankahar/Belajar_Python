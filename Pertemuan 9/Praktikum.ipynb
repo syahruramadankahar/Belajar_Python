{
 "cells": [
  {
   "cell_type": "markdown",
   "id": "a89cf977-3799-434b-9791-4b270fb94c04",
   "metadata": {},
   "source": [
    "# BELAJAR PYTHON TEKOM F 2024"
   ]
  },
  {
   "cell_type": "markdown",
   "id": "3939efa2-54cd-4470-90ee-f84ed91a29a3",
   "metadata": {},
   "source": [
    "## Praktikum Dikelas"
   ]
  },
  {
   "cell_type": "code",
   "execution_count": null,
   "id": "9de1eba8-f60e-4f64-9ac2-5eba524f6a18",
   "metadata": {},
   "outputs": [
    {
     "name": "stdout",
     "output_type": "stream",
     "text": [
      "Nama : Syahruramadan Kahar\n",
      "NIM : 240210501012\n"
     ]
    }
   ],
   "source": [
    "print(\"Nama : Syahruramadan Kahar\")\n",
    "print(\"NIM : 240210501012\")"
   ]
  },
  {
   "cell_type": "markdown",
   "id": "e4a18c84-9261-43f7-a243-8e5ae1def8f4",
   "metadata": {},
   "source": [
    "### Analisis:\n",
    "Kode tersebut menggunakan dua perintah print() untuk menampilkan nama dan NIM ke layar."
   ]
  },
  {
   "cell_type": "markdown",
   "id": "f0036022-5f10-4eab-8f97-7f80973c07be",
   "metadata": {},
   "source": [
    "## Percobaan 1 Comments"
   ]
  },
  {
   "cell_type": "code",
   "execution_count": 5,
   "id": "539cce6a-d7f6-47b0-b8fd-58da1d4b84d2",
   "metadata": {},
   "outputs": [
    {
     "name": "stdout",
     "output_type": "stream",
     "text": [
      "Hello, World!\n",
      "Hello, World!\n",
      "Cheers, Mate!\n",
      "Hello, World!\n",
      "Hello, World!\n"
     ]
    }
   ],
   "source": [
    "#Creating a Comment\n",
    "#This is a comment\n",
    "print(\"Hello, World!\")\n",
    "\n",
    "print(\"Hello, World!\") #This is a comment\n",
    "\n",
    "#print(\"Hello, World!\")\n",
    "print(\"Cheers, Mate!\")\n",
    "\n",
    "\n",
    "\n",
    "#Multiline Comments\n",
    "#This is a comment\n",
    "#written in\n",
    "#more than just one line\n",
    "print(\"Hello, World!\")\n",
    "\n",
    "\"\"\"\n",
    "This is a comment\n",
    "written in\n",
    "more than just one line\n",
    "\"\"\"\n",
    "print(\"Hello, World!\")"
   ]
  },
  {
   "cell_type": "markdown",
   "id": "2e3eb0a9-770e-4b9f-a297-db931d98971e",
   "metadata": {},
   "source": [
    "### Analisis\n",
    "Kode program tersebut menunjukkan penggunaan komentar dalam Python, baik komentar satu baris menggunakan tanda pagar (#) maupun komentar multilines menggunakan tiga tanda kutip (\"\"\" ... \"\"\"). Komentar digunakan untuk memberikan penjelasan pada kode tanpa memengaruhi jalannya program. Beberapa baris print() digunakan untuk menampilkan teks ke layar, sementara baris lain yang diawali # tidak dijalankan karena dianggap sebagai komentar."
   ]
  },
  {
   "cell_type": "markdown",
   "id": "b22195da-bed4-4950-a31b-e3354b684eb7",
   "metadata": {},
   "source": [
    "## Percobaan 2 Variables"
   ]
  },
  {
   "cell_type": "markdown",
   "id": "9804c5fe-6693-4db8-8d50-49535a7cc250",
   "metadata": {},
   "source": [
    "### 1.Python Variabel"
   ]
  },
  {
   "cell_type": "code",
   "execution_count": 83,
   "id": "919173b8-b9ae-41df-8c71-06eedb7565c3",
   "metadata": {},
   "outputs": [
    {
     "name": "stdout",
     "output_type": "stream",
     "text": [
      "5\n",
      "John\n",
      "Sally\n"
     ]
    }
   ],
   "source": [
    "#Creating Variables\n",
    "x = 5\n",
    "y = \"John\"\n",
    "print(x)\n",
    "print(y)\n",
    "\n",
    "x = 4       # x is of type int\n",
    "x = \"Sally\" # x is now of type str\n",
    "print(x)"
   ]
  },
  {
   "cell_type": "markdown",
   "id": "620e3ac9-d272-41a0-8a21-f81aedfe41f7",
   "metadata": {},
   "source": [
    "### Analisis:\n",
    "Kode tersebut menunjukkan cara mendefinisikan variabel dalam Python dan perubahan tipe datanya. Variabel x awalnya bernilai 5 sebagai tipe integer, lalu y berisi teks “John” sebagai tipe string, dan keduanya ditampilkan menggunakan print(). Selanjutnya, x diubah menjadi string “Sally”, menunjukkan bahwa Python bersifat dynamically typed, sehingga tipe data variabel dapat berubah sesuai nilai yang diberikan."
   ]
  },
  {
   "cell_type": "code",
   "execution_count": 82,
   "id": "02224a49-6cba-4f2b-a275-5dad6a396f11",
   "metadata": {},
   "outputs": [],
   "source": [
    "#Casting\n",
    "x = str(3)    # x will be '3'\n",
    "y = int(3)    # y will be 3\n",
    "z = float(3)  # z will be 3.0"
   ]
  },
  {
   "cell_type": "markdown",
   "id": "6d66e83b-e1b7-4d9c-9023-241fcbcc4a1a",
   "metadata": {},
   "source": [
    "### Analisis:\n",
    "Kode tersebut menunjukkan proses konversi tipe data pada Python. Angka 3 diubah menjadi string menggunakan str(3) sehingga x bernilai '3', kemudian int(3) menghasilkan nilai integer 3 untuk y, dan float(3) menghasilkan nilai pecahan 3.0 untuk z."
   ]
  },
  {
   "cell_type": "code",
   "execution_count": null,
   "id": "d2347e5f-9f2a-45ab-89f3-37d5fae70166",
   "metadata": {},
   "outputs": [
    {
     "name": "stdout",
     "output_type": "stream",
     "text": [
      "<class 'int'>\n",
      "<class 'str'>\n"
     ]
    }
   ],
   "source": [
    "#Get the Type\n",
    "x = 5\n",
    "y = \"John\"\n",
    "print(type(x))\n",
    "print(type(y))"
   ]
  },
  {
   "cell_type": "markdown",
   "id": "443348b9-6529-4266-a8a0-7bca7fc7845f",
   "metadata": {},
   "source": [
    "### Analisis:\n",
    "Kode tersebut digunakan untuk menampilkan tipe data dari variabel menggunakan fungsi type(). Variabel x diberi nilai 5 yang otomatis dikenali sebagai tipe data integer, sedangkan y berisi teks \"John\" yang merupakan tipe data string."
   ]
  },
  {
   "cell_type": "code",
   "execution_count": 7,
   "id": "a31e6249-5f48-4070-8ebe-dd64c0eaae9e",
   "metadata": {},
   "outputs": [],
   "source": [
    "#Single or Double Quotes?\n",
    "x = \"John\"\n",
    "# is the same as\n",
    "x = 'John'"
   ]
  },
  {
   "cell_type": "markdown",
   "id": "7ae049cb-f4cd-4afd-8e99-181d48a08d3e",
   "metadata": {},
   "source": [
    "### Analisis:\n",
    "Kode tersebut menunjukkan bahwa dalam Python, teks (string) dapat ditulis menggunakan tanda kutip dua (\" \") maupun tanda kutip satu (' '). Kedua cara tersebut memiliki fungsi yang sama dan menghasilkan tipe data string."
   ]
  },
  {
   "cell_type": "code",
   "execution_count": 9,
   "id": "90854de4-bfa0-4fd8-a4ec-edc7575db1a8",
   "metadata": {},
   "outputs": [],
   "source": [
    "#Case-Sensitive\n",
    "a = 4\n",
    "A = \"Sally\"\n",
    "#A will not overwrite a"
   ]
  },
  {
   "cell_type": "markdown",
   "id": "f7af9ae0-f720-4f27-a08a-c4c5176ee184",
   "metadata": {},
   "source": [
    "### Analisis:\n",
    "Kode tersebut menunjukkan bahwa Python bersifat case-sensitive, artinya huruf besar dan huruf kecil dianggap sebagai nama variabel yang berbeda. Variabel a diberikan nilai 4, sedangkan A diberikan nilai \"Sally\", dan keduanya disimpan secara terpisah. Dengan demikian, nilai pada A tidak akan menimpa atau menggantikan nilai pada a karena kedua variabel tersebut dianggap berbeda oleh Python."
   ]
  },
  {
   "cell_type": "markdown",
   "id": "0ffc0b54-64bf-42f9-b392-33d45cb730c4",
   "metadata": {},
   "source": [
    "### 2.Variabel Names"
   ]
  },
  {
   "cell_type": "code",
   "execution_count": 10,
   "id": "5f2eb5c2-75ad-4b1b-9751-bdcd18c70125",
   "metadata": {},
   "outputs": [],
   "source": [
    "myvar = \"John\"\n",
    "my_var = \"John\"\n",
    "_my_var = \"John\"\n",
    "myVar = \"John\"\n",
    "MYVAR = \"John\"\n",
    "myvar2 = \"John\""
   ]
  },
  {
   "cell_type": "markdown",
   "id": "eda9c5dd-ca01-41b0-be2f-420c7f961bd6",
   "metadata": {},
   "source": [
    "### Analisis:\n",
    "Kode tersebut menampilkan beberapa contoh penulisan nama variabel yang valid dalam Python. Semua variabel tersebut mengikuti aturan penamaan yang benar, seperti diawali huruf atau garis bawah, tidak mengandung spasi, serta dapat menggunakan huruf besar, huruf kecil, dan angka (selama angka tidak di awal). Perbedaan gaya penulisan seperti myvar, my_var, myVar, dan MYVAR menunjukkan variasi naming convention yang dapat digunakan, sementara Python tetap membedakan huruf besar dan kecil dalam penamaan variabel."
   ]
  },
  {
   "cell_type": "code",
   "execution_count": 11,
   "id": "6f9c29f7-2084-4a4e-9a61-c505d64d9bc0",
   "metadata": {},
   "outputs": [
    {
     "ename": "SyntaxError",
     "evalue": "invalid decimal literal (2185399839.py, line 1)",
     "output_type": "error",
     "traceback": [
      "\u001b[1;36m  Cell \u001b[1;32mIn[11], line 1\u001b[1;36m\u001b[0m\n\u001b[1;33m    2myvar = \"John\"\u001b[0m\n\u001b[1;37m    ^\u001b[0m\n\u001b[1;31mSyntaxError\u001b[0m\u001b[1;31m:\u001b[0m invalid decimal literal\n"
     ]
    }
   ],
   "source": [
    "2myvar = \"John\"\n",
    "my-var = \"John\"\n",
    "my var = \"John\""
   ]
  },
  {
   "cell_type": "markdown",
   "id": "e1dcbdee-0d4c-4529-bae5-195f66b9e9e5",
   "metadata": {},
   "source": [
    "### Analisis:\n",
    "Kode tersebut berisi contoh penulisan variabel yang tidak valid dalam Python. Ketiga contoh menyalahi aturan penamaan variabel, karena variabel tidak boleh dimulai dengan angka (2myvar), tidak boleh mengandung karakter khusus seperti tanda minus (my-var), dan tidak boleh mengandung spasi (my var). Jika dijalankan, kode tersebut akan menghasilkan error karena nama variabel tidak sesuai dengan aturan sintaks Python."
   ]
  },
  {
   "cell_type": "code",
   "execution_count": 12,
   "id": "f3d4a5d0-f9a0-4778-94ee-942123087373",
   "metadata": {},
   "outputs": [],
   "source": [
    "#Camel Case\n",
    "myVariableName = \"John\"\n",
    "\n",
    "#Pascal Case\n",
    "MyVariableName = \"John\"\n",
    "\n",
    "#Snake Case\n",
    "my_variable_name = \"John\""
   ]
  },
  {
   "cell_type": "markdown",
   "id": "97fd8ada-c276-4a97-a93d-86889223180b",
   "metadata": {},
   "source": [
    "### Analisis:\n",
    "Kode tersebut menunjukkan tiga gaya penulisan nama variabel yang benar dalam Python. Bentuk myVariableName menggunakan gaya camelCase, MyVariableName menggunakan PascalCase, dan my_variable_name menggunakan snake_case. Ketiganya valid dan dapat digunakan sesuai preferensi atau standar penulisan yang diikuti dalam sebuah proyek, dengan snake_case paling umum digunakan dalam Python."
   ]
  },
  {
   "cell_type": "markdown",
   "id": "bbcef8fe-9816-4ae3-be1c-c96cae4469a1",
   "metadata": {},
   "source": [
    "### 3.Assign Multiple"
   ]
  },
  {
   "cell_type": "code",
   "execution_count": 13,
   "id": "641af51f-5a8e-48d8-afd6-d9699958e428",
   "metadata": {},
   "outputs": [
    {
     "name": "stdout",
     "output_type": "stream",
     "text": [
      "Orange\n",
      "Banana\n",
      "Cherry\n"
     ]
    }
   ],
   "source": [
    "#Many Values to Multiple Variables\n",
    "x, y, z = \"Orange\", \"Banana\", \"Cherry\"\n",
    "print(x)\n",
    "print(y)\n",
    "print(z)"
   ]
  },
  {
   "cell_type": "markdown",
   "id": "a7e2a5d8-e0a0-48b9-818f-959e5187acad",
   "metadata": {},
   "source": [
    "### Analisis:\n",
    "Kode tersebut menunjukkan teknik multiple assignment pada Python, yaitu memberikan beberapa nilai ke beberapa variabel dalam satu baris. Variabel x, y, dan z masing-masing diberi nilai \"Orange\", \"Banana\", dan \"Cherry\". Ketika dicetak menggunakan print(), setiap variabel menampilkan nilai yang telah diberikan. Teknik ini membuat penulisan kode lebih ringkas dan efisien."
   ]
  },
  {
   "cell_type": "code",
   "execution_count": 14,
   "id": "348b4bd6-de65-4ef1-8412-fd9bdf43d363",
   "metadata": {},
   "outputs": [
    {
     "name": "stdout",
     "output_type": "stream",
     "text": [
      "Orange\n",
      "Orange\n",
      "Orange\n"
     ]
    }
   ],
   "source": [
    "#One Value to Multiple Variables\n",
    "x = y = z = \"Orange\"\n",
    "print(x)\n",
    "print(y)\n",
    "print(z)"
   ]
  },
  {
   "cell_type": "markdown",
   "id": "0c8a3e4d-2110-488a-b425-2ad5558c3b1d",
   "metadata": {},
   "source": [
    "### Analisis:\n",
    "Kode tersebut menampilkan teknik multiple assignment dengan satu nilai yang sama. Variabel x, y, dan z semuanya diisi dengan nilai yang sama, yaitu \"Orange\", dalam satu baris kode. Saat dicetak menggunakan print(), ketiga variabel tersebut akan menampilkan nilai \"Orange\"."
   ]
  },
  {
   "cell_type": "code",
   "execution_count": 15,
   "id": "ce21f191-dae4-4ae7-baae-00cdb7b5a1be",
   "metadata": {},
   "outputs": [
    {
     "name": "stdout",
     "output_type": "stream",
     "text": [
      "apple\n",
      "banana\n",
      "cherry\n"
     ]
    }
   ],
   "source": [
    "#Unpack a Collection\n",
    "fruits = [\"apple\", \"banana\", \"cherry\"]\n",
    "x, y, z = fruits\n",
    "print(x)\n",
    "print(y)\n",
    "print(z)"
   ]
  },
  {
   "cell_type": "markdown",
   "id": "1413c1ae-0710-4fdb-8624-b050f5da0a7b",
   "metadata": {},
   "source": [
    "### Analisis:\n",
    "Kode tersebut menunjukkan teknik unpacking nilai dari sebuah list ke dalam beberapa variabel. List fruits berisi tiga elemen, yaitu \"apple\", \"banana\", dan \"cherry\". Nilai-nilai tersebut kemudian dibagi (di-unpack) ke variabel x, y, dan z secara berurutan. Saat dicetak, masing-masing variabel akan menampilkan satu elemen dari list sesuai urutannya."
   ]
  },
  {
   "cell_type": "markdown",
   "id": "cfd945c9-b10a-4f43-9f6b-1ce0c78cc728",
   "metadata": {},
   "source": [
    "### 4.Output Variabel"
   ]
  },
  {
   "cell_type": "code",
   "execution_count": 16,
   "id": "c355c501-3e49-4a7c-b235-c6a9f4063bd7",
   "metadata": {},
   "outputs": [
    {
     "name": "stdout",
     "output_type": "stream",
     "text": [
      "Python is awesome\n",
      "Python is awesome\n",
      "Python is awesome\n",
      "15\n",
      "5 John\n"
     ]
    }
   ],
   "source": [
    "x = \"Python is awesome\"\n",
    "print(x)\n",
    "\n",
    "x = \"Python\"\n",
    "y = \"is\"\n",
    "z = \"awesome\"\n",
    "print(x, y, z)\n",
    "\n",
    "x = \"Python \"\n",
    "y = \"is \"\n",
    "z = \"awesome\"\n",
    "print(x + y + z)\n",
    "\n",
    "x = 5\n",
    "y = 10\n",
    "print(x + y)\n",
    "\n",
    "x = 5\n",
    "y = \"John\"\n",
    "print(x, y)"
   ]
  },
  {
   "cell_type": "markdown",
   "id": "48bf28b5-07a1-4915-a1cc-0cbd2194a9d1",
   "metadata": {},
   "source": [
    "### Analisis:\n",
    "Kode tersebut memperlihatkan beberapa cara menampilkan data menggunakan print() serta contoh penggunaan operator + dan pemisahan nilai dengan koma. Pada contoh pertama, sebuah string dicetak langsung. Pada bagian kedua, tiga variabel string dicetak sekaligus menggunakan print(x, y, z) yang secara otomatis menambahkan spasi antar nilai. Selanjutnya, print(x + y + z) menggunakan operator + untuk melakukan concatenation atau penggabungan string. Pada contoh berikutnya, x + y digunakan untuk menjumlahkan dua angka, menghasilkan nilai numerik 15. Terakhir, ketika x berupa angka dan y berupa string, penggunaan print(x, y) tetap berhasil karena dipisahkan dengan koma, namun jika menggunakan + dalam kasus ini akan menyebabkan error karena Python tidak dapat menggabungkan angka dan string secara langsung."
   ]
  },
  {
   "cell_type": "code",
   "execution_count": 17,
   "id": "7c800af3-af44-42b2-8a3f-d0831709d8c1",
   "metadata": {},
   "outputs": [
    {
     "ename": "TypeError",
     "evalue": "unsupported operand type(s) for +: 'int' and 'str'",
     "output_type": "error",
     "traceback": [
      "\u001b[1;31m---------------------------------------------------------------------------\u001b[0m",
      "\u001b[1;31mTypeError\u001b[0m                                 Traceback (most recent call last)",
      "Cell \u001b[1;32mIn[17], line 3\u001b[0m\n\u001b[0;32m      1\u001b[0m x \u001b[38;5;241m=\u001b[39m \u001b[38;5;241m5\u001b[39m\n\u001b[0;32m      2\u001b[0m y \u001b[38;5;241m=\u001b[39m \u001b[38;5;124m\"\u001b[39m\u001b[38;5;124mJohn\u001b[39m\u001b[38;5;124m\"\u001b[39m\n\u001b[1;32m----> 3\u001b[0m \u001b[38;5;28mprint\u001b[39m(x \u001b[38;5;241m+\u001b[39m y)\n",
      "\u001b[1;31mTypeError\u001b[0m: unsupported operand type(s) for +: 'int' and 'str'"
     ]
    }
   ],
   "source": [
    "x = 5\n",
    "y = \"John\"\n",
    "print(x + y)"
   ]
  },
  {
   "cell_type": "markdown",
   "id": "ebfa154e-5a61-4dbb-91a7-2583677795ee",
   "metadata": {},
   "source": [
    "### Analisis:\n",
    "Kode tersebut akan menghasilkan error karena mencoba menggunakan operator + untuk menggabungkan nilai dengan tipe data berbeda. Variabel x merupakan tipe integer, sedangkan y merupakan string. Python tidak dapat menjumlahkan atau menggabungkan angka dan teks menggunakan +, sehingga program akan menampilkan pesan kesalahan tipe data (TypeError)."
   ]
  },
  {
   "cell_type": "markdown",
   "id": "036f7f7f-b0e2-4498-97cf-0e4722ba3c61",
   "metadata": {},
   "source": [
    "### 5.Global Variabel"
   ]
  },
  {
   "cell_type": "code",
   "execution_count": 84,
   "id": "0a7225b5-97f0-4823-85a4-2aaa6d94b64a",
   "metadata": {},
   "outputs": [
    {
     "name": "stdout",
     "output_type": "stream",
     "text": [
      "Python is awesome\n",
      "Python is fantastic\n",
      "Python is awesome\n"
     ]
    }
   ],
   "source": [
    "#Global Variables\n",
    "x = \"awesome\"\n",
    "def myfunc():\n",
    "  print(\"Python is \" + x)\n",
    "myfunc()\n",
    "\n",
    "x = \"awesome\"\n",
    "def myfunc():\n",
    "  x = \"fantastic\"\n",
    "  print(\"Python is \" + x)\n",
    "myfunc()\n",
    "print(\"Python is \" + x)"
   ]
  },
  {
   "cell_type": "markdown",
   "id": "3eb93dab-3cb1-4fff-9b98-569f401dfc1b",
   "metadata": {},
   "source": [
    "### Analisis:\n",
    "Kode tersebut menunjukkan perbedaan penggunaan variabel global dan local dalam Python. Pada bagian pertama, variabel x didefinisikan di luar fungsi dan digunakan di dalam fungsi, sehingga fungsi menampilkan “Python is awesome” karena x bersifat global. Pada bagian kedua, di dalam fungsi didefinisikan variabel x baru dengan nilai “fantastic”, sehingga saat fungsi dijalankan, nilai yang ditampilkan adalah “Python is fantastic”. Namun, variabel global x tidak berubah, sehingga saat dicetak di luar fungsi, hasilnya tetap “Python is awesome”."
   ]
  },
  {
   "cell_type": "code",
   "execution_count": 85,
   "id": "fdcecf80-160b-460a-8f8e-5909f9ea856d",
   "metadata": {},
   "outputs": [
    {
     "name": "stdout",
     "output_type": "stream",
     "text": [
      "Python is fantastic\n",
      "Python is fantastic\n"
     ]
    }
   ],
   "source": [
    "#The global Keyword\n",
    "def myfunc():\n",
    "  global x\n",
    "  x = \"fantastic\"\n",
    "myfunc()\n",
    "print(\"Python is \" + x)\n",
    "\n",
    "x = \"awesome\"\n",
    "def myfunc():\n",
    "  global x\n",
    "  x = \"fantastic\"\n",
    "myfunc()\n",
    "print(\"Python is \" + x)"
   ]
  },
  {
   "cell_type": "markdown",
   "id": "0ed9af14-e357-47a8-becb-30dc784fde6e",
   "metadata": {},
   "source": [
    "### Analisis:\n",
    "Kode tersebut menunjukkan penggunaan kata kunci global untuk mengubah nilai variabel yang didefinisikan di luar fungsi. Pada contoh pertama, variabel x belum memiliki nilai sebelum fungsi dipanggil, namun karena menggunakan global x, fungsi menetapkan nilai \"fantastic\" sebagai variabel global. Hasil cetak menunjukkan “Python is fantastic”. Pada contoh kedua, meskipun x awalnya bernilai \"awesome\", fungsi kembali mengubah nilai global x menjadi \"fantastic\", sehingga hasil akhirnya tetap mencetak “Python is fantastic”."
   ]
  },
  {
   "cell_type": "markdown",
   "id": "785b64ca-e2c1-4f33-9288-bc9908f7b46e",
   "metadata": {},
   "source": [
    "## Percobaan 3 Type Data"
   ]
  },
  {
   "cell_type": "code",
   "execution_count": 20,
   "id": "cfa80cfd-6110-44db-bd9c-fce1d89abf88",
   "metadata": {},
   "outputs": [
    {
     "name": "stdout",
     "output_type": "stream",
     "text": [
      "<class 'int'>\n"
     ]
    }
   ],
   "source": [
    "#Getting the Data Type\n",
    "x = 5\n",
    "print(type(x))"
   ]
  },
  {
   "cell_type": "markdown",
   "id": "c68495cb-a759-46b5-926a-d4b407ffcdc7",
   "metadata": {},
   "source": [
    "### Analisis:\n",
    "Kode tersebut menggunakan fungsi type() untuk mengetahui tipe data dari variabel. Variabel x diberi nilai 5, sehingga ketika dicetak dengan print(type(x)), program akan menampilkan bahwa x bertipe integer (int)."
   ]
  },
  {
   "cell_type": "markdown",
   "id": "6bb7dace-08b0-4706-8245-ad4f4eab3cce",
   "metadata": {},
   "source": [
    "## Percobaan 4 Numbers"
   ]
  },
  {
   "cell_type": "code",
   "execution_count": 21,
   "id": "7cd81a2d-cb4b-41b8-b830-f3324252d0bd",
   "metadata": {},
   "outputs": [
    {
     "name": "stdout",
     "output_type": "stream",
     "text": [
      "<class 'int'>\n",
      "<class 'float'>\n",
      "<class 'complex'>\n"
     ]
    }
   ],
   "source": [
    "x = 1    # int\n",
    "y = 2.8  # float\n",
    "z = 1j   # complex\n",
    "\n",
    "print(type(x))\n",
    "print(type(y))\n",
    "print(type(z))"
   ]
  },
  {
   "cell_type": "markdown",
   "id": "f862fc9a-a2cd-4e54-be5e-2a2d54f9f3a6",
   "metadata": {},
   "source": [
    "### Analisis:\n",
    "Kode tersebut menunjukkan tiga jenis tipe data numerik dalam Python, yaitu int, float, dan complex. Variabel x berisi bilangan bulat (int), y berisi bilangan desimal (float), dan z berisi bilangan kompleks (complex) yang ditandai dengan akhiran j. Melalui print(type(...)), program menampilkan tipe data masing-masing variabel, sehingga memperlihatkan bahwa Python dapat menangani berbagai jenis bilangan secara otomatis."
   ]
  },
  {
   "cell_type": "code",
   "execution_count": 22,
   "id": "b9960fdc-5bf1-443b-a535-ea77ea01dddb",
   "metadata": {},
   "outputs": [
    {
     "name": "stdout",
     "output_type": "stream",
     "text": [
      "<class 'int'>\n",
      "<class 'int'>\n",
      "<class 'int'>\n"
     ]
    }
   ],
   "source": [
    "#Int\n",
    "x = 1\n",
    "y = 35656222554887711\n",
    "z = -3255522\n",
    "\n",
    "print(type(x))\n",
    "print(type(y))\n",
    "print(type(z))"
   ]
  },
  {
   "cell_type": "markdown",
   "id": "9750e398-30dd-4f20-bb0a-e5ca9d44c300",
   "metadata": {},
   "source": [
    "### Analisis:\n",
    "Kode tersebut menunjukkan bahwa tipe data integer (int) pada Python dapat menampung angka dengan berbagai ukuran, baik kecil, sangat besar, maupun bernilai negatif. Variabel x berisi angka kecil, y berisi angka dengan jumlah digit yang sangat besar, dan z berisi angka negatif. Ketika setiap variabel diperiksa menggunakan type(), hasilnya tetap menunjukkan tipe int, menandakan bahwa Python tidak memiliki batasan khusus untuk ukuran bilangan integer selain kemampuan memori komputer."
   ]
  },
  {
   "cell_type": "code",
   "execution_count": 23,
   "id": "b068ee34-e624-4e5a-9785-96e168f47cc7",
   "metadata": {},
   "outputs": [
    {
     "name": "stdout",
     "output_type": "stream",
     "text": [
      "<class 'float'>\n",
      "<class 'float'>\n",
      "<class 'float'>\n",
      "<class 'float'>\n",
      "<class 'float'>\n",
      "<class 'float'>\n"
     ]
    }
   ],
   "source": [
    "#Float\n",
    "x = 1.10\n",
    "y = 1.0\n",
    "z = -35.59\n",
    "\n",
    "print(type(x))\n",
    "print(type(y))\n",
    "print(type(z))\n",
    "\n",
    "x = 35e3\n",
    "y = 12E4\n",
    "z = -87.7e100\n",
    "\n",
    "print(type(x))\n",
    "print(type(y))\n",
    "print(type(z))"
   ]
  },
  {
   "cell_type": "markdown",
   "id": "fbd3d28b-28d0-40fa-9e23-90756275815c",
   "metadata": {},
   "source": [
    "### Analisis:\n",
    "Kode tersebut menunjukkan penggunaan tipe data float dalam Python, baik dalam bentuk angka desimal biasa maupun dalam notasi ilmiah (scientific notation). Pada bagian pertama, variabel x, y, dan z diisi dengan angka desimal, termasuk nilai negatif, dan semuanya dikenali sebagai tipe float. Pada bagian kedua, nilai diberikan menggunakan notasi ilmiah seperti 35e3, 12E4, dan -87.7e100, yang juga menghasilkan tipe float, di mana huruf e atau E menandakan pangkat 10."
   ]
  },
  {
   "cell_type": "code",
   "execution_count": 24,
   "id": "3476d261-4119-4e14-86ec-9c4416012316",
   "metadata": {},
   "outputs": [
    {
     "name": "stdout",
     "output_type": "stream",
     "text": [
      "<class 'complex'>\n",
      "<class 'complex'>\n",
      "<class 'complex'>\n"
     ]
    }
   ],
   "source": [
    "#Complex\n",
    "x = 3+5j\n",
    "y = 5j\n",
    "z = -5j\n",
    "\n",
    "print(type(x))\n",
    "print(type(y))\n",
    "print(type(z))"
   ]
  },
  {
   "cell_type": "markdown",
   "id": "238f9070-8a73-4abb-8054-493b5595ced4",
   "metadata": {},
   "source": [
    "### Analisis:\n",
    "Kode tersebut menunjukkan penggunaan tipe data complex dalam Python. Variabel x, y, dan z berisi bilangan kompleks yang ditandai dengan akhiran j sebagai bagian imajiner. Nilai x memiliki bagian real dan imajiner, sedangkan y dan z hanya memiliki bagian imajiner positif dan negatif. Ketika dicek menggunakan type(), ketiganya dikenali sebagai tipe data complex, menunjukkan bahwa Python mendukung operasi dengan bilangan kompleks secara bawaan."
   ]
  },
  {
   "cell_type": "code",
   "execution_count": 25,
   "id": "1a0babe8-642d-4632-8987-ce9dd3511b9f",
   "metadata": {},
   "outputs": [
    {
     "name": "stdout",
     "output_type": "stream",
     "text": [
      "1.0\n",
      "2\n",
      "(1+0j)\n",
      "<class 'float'>\n",
      "<class 'int'>\n",
      "<class 'complex'>\n"
     ]
    }
   ],
   "source": [
    "#Type Conversion\n",
    "x = 1    # int\n",
    "y = 2.8  # float\n",
    "z = 1j   # complex\n",
    "\n",
    "#convert from int to float:\n",
    "a = float(x)\n",
    "\n",
    "#convert from float to int:\n",
    "b = int(y)\n",
    "\n",
    "#convert from int to complex:\n",
    "c = complex(x)\n",
    "\n",
    "print(a)\n",
    "print(b)\n",
    "print(c)\n",
    "\n",
    "print(type(a))\n",
    "print(type(b))\n",
    "print(type(c))"
   ]
  },
  {
   "cell_type": "markdown",
   "id": "16b3e7fa-cdaf-4f1e-9f43-40fade18f0ab",
   "metadata": {},
   "source": [
    "### Analisis:\n",
    "Kode tersebut menunjukkan proses konversi tipe data numerik dalam Python. Variabel x, y, dan z masing-masing bertipe int, float, dan complex. Nilai x dikonversi menjadi float dan disimpan pada variabel a, nilai y dikonversi menjadi int dan disimpan pada b, serta x juga dikonversi menjadi complex dan disimpan pada c. Hasil konversi tersebut kemudian dicetak, beserta tipe datanya menggunakan type()."
   ]
  },
  {
   "cell_type": "code",
   "execution_count": 26,
   "id": "b3170f2c-cae3-450e-97f1-009790eae841",
   "metadata": {},
   "outputs": [
    {
     "name": "stdout",
     "output_type": "stream",
     "text": [
      "8\n"
     ]
    }
   ],
   "source": [
    "#Random Number\n",
    "import random\n",
    "\n",
    "print(random.randrange(1, 10))"
   ]
  },
  {
   "cell_type": "markdown",
   "id": "49fe9bc4-f48e-42a2-91df-7b8307b53640",
   "metadata": {},
   "source": [
    "### Analisis:\n",
    "Kode tersebut menggunakan modul random untuk menghasilkan angka acak. Fungsi random.randrange(1, 10) akan menghasilkan sebuah angka acak dari rentang 1 hingga 9 (angka 10 tidak termasuk)."
   ]
  },
  {
   "cell_type": "markdown",
   "id": "f4bd11f3-d7bf-47a0-b5a2-e376f298608a",
   "metadata": {},
   "source": [
    "## Percobaan 5 Casting"
   ]
  },
  {
   "cell_type": "code",
   "execution_count": 27,
   "id": "9718e9f8-6552-4edc-8be8-41477e3f4d9f",
   "metadata": {},
   "outputs": [],
   "source": [
    "#Specify a Variable Type\n",
    "\n",
    "#Integers:\n",
    "x = int(1)   # x will be 1\n",
    "y = int(2.8) # y will be 2\n",
    "z = int(\"3\") # z will be 3"
   ]
  },
  {
   "cell_type": "markdown",
   "id": "3b30da49-d2f6-49f6-b056-f2e917a78020",
   "metadata": {},
   "source": [
    "### Analisis:\n",
    "Kode tersebut memperlihatkan penggunaan fungsi int() untuk mengonversi berbagai jenis nilai menjadi tipe data integer. Nilai 1 tetap menjadi integer, nilai 2.8 dibulatkan ke bawah menjadi 2, dan string \"3\" diubah menjadi angka 3."
   ]
  },
  {
   "cell_type": "code",
   "execution_count": 28,
   "id": "9bff350c-0674-462d-ba45-77a769d1131c",
   "metadata": {},
   "outputs": [],
   "source": [
    "#Floats:\n",
    "x = float(1)     # x will be 1.0\n",
    "y = float(2.8)   # y will be 2.8\n",
    "z = float(\"3\")   # z will be 3.0\n",
    "w = float(\"4.2\") # w will be 4.2"
   ]
  },
  {
   "cell_type": "markdown",
   "id": "76dd76b6-1197-42f3-8068-9a9b65876ddd",
   "metadata": {},
   "source": [
    "### Analisis:\n",
    "Kode tersebut menunjukkan penggunaan fungsi float() untuk mengonversi nilai menjadi tipe data float. Nilai 1 diubah menjadi 1.0, nilai 2.8 tetap menjadi 2.8, sedangkan string \"3\" dan \"4.2\" juga berhasil dikonversi menjadi angka pecahan (3.0 dan 4.2)."
   ]
  },
  {
   "cell_type": "code",
   "execution_count": 30,
   "id": "be9eca92-4b5f-40b2-9446-d9122a49e41c",
   "metadata": {},
   "outputs": [],
   "source": [
    "#Strings:\n",
    "x = str(\"s1\") # x will be 's1'\n",
    "y = str(2)    # y will be '2'\n",
    "z = str(3.0)  # z will be '3.0'"
   ]
  },
  {
   "cell_type": "markdown",
   "id": "3bbfe581-0f1a-4d49-9708-806166b4f5f0",
   "metadata": {},
   "source": [
    "### Analisis:\n",
    "Kode tersebut memperlihatkan penggunaan fungsi str() untuk mengonversi nilai menjadi tipe data string. Nilai \"s1\" tetap menjadi string, angka 2 diubah menjadi \"2\", dan angka desimal 3.0 diubah menjadi \"3.0\"."
   ]
  },
  {
   "cell_type": "markdown",
   "id": "1d57d592-36fd-43ee-adf1-9e703f2621d8",
   "metadata": {},
   "source": [
    "## Percobaan 6 Strings"
   ]
  },
  {
   "cell_type": "markdown",
   "id": "61bcdb49-83ab-48b5-ac9e-5b0596de3c09",
   "metadata": {},
   "source": [
    "### 1. Python String"
   ]
  },
  {
   "cell_type": "code",
   "execution_count": 4,
   "id": "b67986d7-52ea-409b-bb64-ef191dc21425",
   "metadata": {},
   "outputs": [
    {
     "name": "stdout",
     "output_type": "stream",
     "text": [
      "Hello\n",
      "Hello\n"
     ]
    }
   ],
   "source": [
    "#Strings\n",
    "print(\"Hello\")\n",
    "print('Hello')"
   ]
  },
  {
   "cell_type": "markdown",
   "id": "652e1e40-7bca-48ae-a7ca-5ca470d0321e",
   "metadata": {},
   "source": [
    "### Analisis:\n",
    "Kode tersebut menunjukkan bahwa Python mengizinkan penulisan string menggunakan tanda kutip dua (\" \") maupun tanda kutip satu (' '). Keduanya memiliki fungsi yang sama untuk menampilkan teks"
   ]
  },
  {
   "cell_type": "code",
   "execution_count": 1,
   "id": "9d0101ff-319b-45b3-867e-e3475af64254",
   "metadata": {},
   "outputs": [
    {
     "name": "stdout",
     "output_type": "stream",
     "text": [
      "It's alright\n",
      "He is called 'Johnny'\n",
      "He is called \"Johnny\"\n"
     ]
    }
   ],
   "source": [
    "#Quotes Inside Quotes\n",
    "print(\"It's alright\")\n",
    "print(\"He is called 'Johnny'\")\n",
    "print('He is called \"Johnny\"')"
   ]
  },
  {
   "cell_type": "markdown",
   "id": "4933a07c-862d-4b95-8c1d-d4ba46f2c3cb",
   "metadata": {},
   "source": [
    "### Analisis:\n",
    "Kode tersebut menunjukkan penggunaan tanda kutip dalam penulisan string di Python. Dengan memanfaatkan perbedaan antara kutip satu (') dan kutip dua (\"), teks yang mengandung tanda kutip dapat dicetak tanpa error."
   ]
  },
  {
   "cell_type": "code",
   "execution_count": 2,
   "id": "587f3fde-58bd-4900-8877-fa4d2949415c",
   "metadata": {},
   "outputs": [
    {
     "name": "stdout",
     "output_type": "stream",
     "text": [
      "Hello\n"
     ]
    }
   ],
   "source": [
    "#Assign String to a Variable\n",
    "a = \"Hello\"\n",
    "print(a)"
   ]
  },
  {
   "cell_type": "markdown",
   "id": "5f99f0a1-f752-4b9d-8a2f-cb62c1938e4e",
   "metadata": {},
   "source": [
    "### Analisis:\n",
    "Kode tersebut mendefinisikan variabel a dengan nilai string \"Hello\", kemudian mencetak isi variabel tersebut menggunakan fungsi print()."
   ]
  },
  {
   "cell_type": "code",
   "execution_count": 3,
   "id": "08f053db-6747-4005-a7f8-9e0e5dc83147",
   "metadata": {},
   "outputs": [
    {
     "name": "stdout",
     "output_type": "stream",
     "text": [
      "Lorem ipsum dolor sit amet,\n",
      "consectetur adipiscing elit,\n",
      "sed do eiusmod tempor incididunt\n",
      "ut labore et dolore magna aliqua.\n",
      "Lorem ipsum dolor sit amet,\n",
      "consectetur adipiscing elit,\n",
      "sed do eiusmod tempor incididunt\n",
      "ut labore et dolore magna aliqua.\n"
     ]
    }
   ],
   "source": [
    "#Multiline Strings\n",
    "#double quotes\n",
    "a = \"\"\"Lorem ipsum dolor sit amet,\n",
    "consectetur adipiscing elit,\n",
    "sed do eiusmod tempor incididunt\n",
    "ut labore et dolore magna aliqua.\"\"\"\n",
    "print(a)\n",
    "\n",
    "#single quotes\n",
    "a = '''Lorem ipsum dolor sit amet,\n",
    "consectetur adipiscing elit,\n",
    "sed do eiusmod tempor incididunt\n",
    "ut labore et dolore magna aliqua.'''\n",
    "print(a)"
   ]
  },
  {
   "cell_type": "markdown",
   "id": "b238b23c-a23e-4606-a31e-dabc0471b9b0",
   "metadata": {},
   "source": [
    "### Analisis:\n",
    "Kode tersebut menunjukkan penggunaan tanda kutip tiga (\"\"\" atau ''') untuk membuat string multilines di Python. Dengan cara ini, teks dapat ditulis dalam beberapa baris tanpa perlu menambahkan karakter khusus."
   ]
  },
  {
   "cell_type": "code",
   "execution_count": 4,
   "id": "958fe9c8-31ec-4852-94de-34f34a0ffb75",
   "metadata": {},
   "outputs": [
    {
     "name": "stdout",
     "output_type": "stream",
     "text": [
      "e\n"
     ]
    }
   ],
   "source": [
    "#Strings are Arrays\n",
    "a = \"Hello, World!\"\n",
    "print(a[1])"
   ]
  },
  {
   "cell_type": "markdown",
   "id": "21ccd012-e6aa-4399-b3fd-fcd0982183eb",
   "metadata": {},
   "source": [
    "### Analisis:\n",
    "Kode tersebut menunjukkan cara mengakses karakter dalam string menggunakan indeks. Variabel a berisi string \"Hello, World!\", dan a[1] mengambil karakter pada indeks ke-1 (indeks dimulai dari 0). Karena indeks 1 adalah huruf 'e', maka program akan mencetak huruf e."
   ]
  },
  {
   "cell_type": "code",
   "execution_count": 5,
   "id": "2946bd27-ef77-4832-b130-6ab13e88afb0",
   "metadata": {},
   "outputs": [
    {
     "name": "stdout",
     "output_type": "stream",
     "text": [
      "b\n",
      "a\n",
      "n\n",
      "a\n",
      "n\n",
      "a\n"
     ]
    }
   ],
   "source": [
    "#Looping Through a String\n",
    "for x in \"banana\":\n",
    "  print(x)"
   ]
  },
  {
   "cell_type": "markdown",
   "id": "792c30e0-976a-4b5e-81aa-83a84e6cea9c",
   "metadata": {},
   "source": [
    "### Analisis:\n",
    "Kode tersebut menunjukkan cara melakukan **iterasi pada string** menggunakan perulangan `for`. String `\"banana\"` diperlakukan sebagai kumpulan karakter, sehingga perulangan akan menelusuri setiap huruf satu per satu. Pada setiap iterasi, variabel `x` menyimpan satu karakter dan kemudian dicetak. Hasilnya, setiap huruf pada kata “banana” akan tampil pada baris terpisah."
   ]
  },
  {
   "cell_type": "code",
   "execution_count": 6,
   "id": "ba2c016d-fca4-46a9-b155-47d62166fca9",
   "metadata": {},
   "outputs": [
    {
     "name": "stdout",
     "output_type": "stream",
     "text": [
      "13\n"
     ]
    }
   ],
   "source": [
    "#Looping Through a String\n",
    "a = \"Hello, World!\"\n",
    "print(len(a))"
   ]
  },
  {
   "cell_type": "markdown",
   "id": "0dca4859-e7e7-4a53-88c4-a7a7786dde07",
   "metadata": {},
   "source": [
    "### Analisis:\n",
    "Kode tersebut menggunakan fungsi len() untuk menghitung jumlah karakter dalam sebuah string. Variabel a berisi teks \"Hello, World!\", dan len(a) akan menghasilkan nilai panjang string tersebut, termasuk spasi dan tanda baca."
   ]
  },
  {
   "cell_type": "code",
   "execution_count": 7,
   "id": "3712372f-8404-414b-acad-5430916ee052",
   "metadata": {},
   "outputs": [
    {
     "name": "stdout",
     "output_type": "stream",
     "text": [
      "True\n",
      "Yes, 'free' is present.\n"
     ]
    }
   ],
   "source": [
    "#Check String\n",
    "txt = \"The best things in life are free!\"\n",
    "print(\"free\" in txt)\n",
    "\n",
    "\n",
    "txt = \"The best things in life are free!\"\n",
    "if \"free\" in txt:\n",
    "  print(\"Yes, 'free' is present.\")"
   ]
  },
  {
   "cell_type": "markdown",
   "id": "0af231d4-d758-4a58-972d-6fc9ff727640",
   "metadata": {},
   "source": [
    "### Analisis:\n",
    "Kode tersebut menunjukkan penggunaan operator in untuk memeriksa apakah suatu kata terdapat dalam sebuah string. Pada baris pertama, \"free\" in txt akan menghasilkan nilai True karena kata free ada dalam teks. Pada contoh kedua, pengecekan dilakukan dalam pernyataan if, sehingga jika kata free ditemukan di dalam string, program akan mencetak pesan \"Yes, 'free' is present.\"."
   ]
  },
  {
   "cell_type": "code",
   "execution_count": 8,
   "id": "6776c7cc-056e-49c8-b757-bf79acef10d5",
   "metadata": {},
   "outputs": [
    {
     "name": "stdout",
     "output_type": "stream",
     "text": [
      "True\n",
      "No, 'expensive' is NOT present.\n"
     ]
    }
   ],
   "source": [
    "#Check if NOT\n",
    "txt = \"The best things in life are free!\"\n",
    "print(\"expensive\" not in txt)\n",
    "\n",
    "\n",
    "txt = \"The best things in life are free!\"\n",
    "if \"expensive\" not in txt:\n",
    "  print(\"No, 'expensive' is NOT present.\")"
   ]
  },
  {
   "cell_type": "markdown",
   "id": "3ca94b5d-b9c7-4ba7-b478-2e71313a7933",
   "metadata": {},
   "source": [
    "### Analisis:\n",
    "Kode tersebut menggunakan operator not in untuk memeriksa apakah sebuah kata tidak terdapat dalam string. Pada contoh pertama, \"expensive\" not in txt akan menghasilkan True karena kata expensive memang tidak ada dalam teks. Pada contoh kedua, pengecekan dilakukan dalam struktur if, sehingga ketika kata tersebut tidak ditemukan di dalam string, program menampilkan pesan \"No, 'expensive' is NOT present.\"."
   ]
  },
  {
   "cell_type": "markdown",
   "id": "2561eb6a-250d-4221-81b1-403a5be1a50a",
   "metadata": {},
   "source": [
    "### 2. Slicing String"
   ]
  },
  {
   "cell_type": "code",
   "execution_count": 9,
   "id": "5e8fe05b-caf9-4c53-87c8-b84bee4b01c3",
   "metadata": {},
   "outputs": [
    {
     "name": "stdout",
     "output_type": "stream",
     "text": [
      "llo\n"
     ]
    }
   ],
   "source": [
    "#Slicing\n",
    "b = \"Hello, World!\"\n",
    "print(b[2:5])"
   ]
  },
  {
   "cell_type": "markdown",
   "id": "818ecefd-ebda-4d09-b957-257e0c96b421",
   "metadata": {},
   "source": [
    "### Analisis:\n",
    "Kode tersebut menunjukkan cara melakukan slicing pada string untuk mengambil sebagian karakter berdasarkan indeks. Variabel b berisi string \"Hello, World!\", dan perintah b[2:5] akan mengambil karakter mulai dari indeks ke-2 hingga sebelum indeks ke-5. Dengan demikian, hasil yang dicetak adalah \"llo\", karena slicing mengambil karakter pada indeks 2, 3, dan 4."
   ]
  },
  {
   "cell_type": "code",
   "execution_count": 10,
   "id": "fee94297-6141-4957-bc5f-223ae3e0db50",
   "metadata": {},
   "outputs": [
    {
     "name": "stdout",
     "output_type": "stream",
     "text": [
      "Hello\n"
     ]
    }
   ],
   "source": [
    "#Slice From the Start\n",
    "b = \"Hello, World!\"\n",
    "print(b[:5])"
   ]
  },
  {
   "cell_type": "markdown",
   "id": "c3727734-d876-4e6c-be8d-20e7f88d7622",
   "metadata": {},
   "source": [
    "### Analisis:\n",
    "Kode tersebut menggunakan teknik slicing tanpa menentukan indeks awal. Pada string \"Hello, World!\", perintah b[:5] berarti mengambil karakter dari awal string hingga sebelum indeks ke-5. Hasilnya adalah \"Hello\", karena karakter pada indeks 0 sampai 4 akan diambil."
   ]
  },
  {
   "cell_type": "code",
   "execution_count": null,
   "id": "91314b15-be2b-4b78-9034-af5c285ef2e0",
   "metadata": {},
   "outputs": [],
   "source": [
    "#Slice To the End\n",
    "b = \"Hello, World!\"\n",
    "print(b[2:])"
   ]
  },
  {
   "cell_type": "markdown",
   "id": "5cb298f9-6755-4c86-82ab-85b67870ef4e",
   "metadata": {},
   "source": [
    "### Analisis:\n",
    "Kode tersebut menggunakan teknik slicing untuk mengambil bagian string mulai dari indeks tertentu hingga akhir. Pada string \"Hello, World!\", perintah b[2:] berarti mengambil karakter mulai dari indeks ke-2 sampai karakter terakhir. Hasil yang dicetak adalah \"llo, World!\"."
   ]
  },
  {
   "cell_type": "code",
   "execution_count": 11,
   "id": "83fa3f64-0d3a-46c9-acea-f150914bab9a",
   "metadata": {},
   "outputs": [
    {
     "name": "stdout",
     "output_type": "stream",
     "text": [
      "orl\n"
     ]
    }
   ],
   "source": [
    "#Negative Indexing\n",
    "b = \"Hello, World!\"\n",
    "print(b[-5:-2])"
   ]
  },
  {
   "cell_type": "markdown",
   "id": "b57be2a3-c327-40e2-87c8-34a642f910f2",
   "metadata": {},
   "source": [
    "### Analisis:\n",
    "Kode tersebut menunjukkan penggunaan slicing dengan indeks negatif pada string. Indeks negatif menghitung posisi karakter dari belakang string. Pada string \"Hello, World!\", perintah b[-5:-2] mengambil karakter mulai dari indeks -5 hingga sebelum indeks -2. Hasilnya adalah \"orl\", karena karakter yang diambil adalah 'o', 'r', dan 'l'."
   ]
  },
  {
   "cell_type": "markdown",
   "id": "d0fc7d39-e4d7-4e34-88a4-24148dcef2e3",
   "metadata": {},
   "source": [
    "### 3. Modify String"
   ]
  },
  {
   "cell_type": "code",
   "execution_count": 12,
   "id": "2d55180d-af17-4dd5-ac48-ebec583dae7f",
   "metadata": {},
   "outputs": [
    {
     "name": "stdout",
     "output_type": "stream",
     "text": [
      "HELLO, WORLD!\n"
     ]
    }
   ],
   "source": [
    "#Upper Case\n",
    "a = \"Hello, World!\"\n",
    "print(a.upper())"
   ]
  },
  {
   "cell_type": "markdown",
   "id": "37f3b703-2a0d-4854-b07a-583cbfd5dea3",
   "metadata": {},
   "source": [
    "### Analisis:\n",
    "Kode tersebut menggunakan metode upper() untuk mengubah semua huruf dalam string menjadi huruf kapital. Variabel a berisi teks \"Hello, World!\", dan ketika a.upper() dicetak, hasilnya akan menjadi \"HELLO, WORLD!\"."
   ]
  },
  {
   "cell_type": "code",
   "execution_count": 13,
   "id": "e69956a2-ebcd-4153-99b1-9a6ea2aafa85",
   "metadata": {},
   "outputs": [
    {
     "name": "stdout",
     "output_type": "stream",
     "text": [
      "hello, world!\n"
     ]
    }
   ],
   "source": [
    "#Lower Case\n",
    "a = \"Hello, World!\"\n",
    "print(a.lower())"
   ]
  },
  {
   "cell_type": "markdown",
   "id": "c2827d03-3378-4e51-b76a-3e694f65d343",
   "metadata": {},
   "source": [
    "### Analisis:\n",
    "Kode tersebut menggunakan metode lower() untuk mengubah semua huruf dalam string menjadi huruf kecil. Variabel a berisi teks \"Hello, World!\", dan saat a.lower() dicetak, hasilnya menjadi \"hello, world!\"."
   ]
  },
  {
   "cell_type": "code",
   "execution_count": 14,
   "id": "50e3f707-4a11-4278-ad65-2f1854d4bbb3",
   "metadata": {},
   "outputs": [
    {
     "name": "stdout",
     "output_type": "stream",
     "text": [
      "Hello, World!\n"
     ]
    }
   ],
   "source": [
    "#Remove Whitespace\n",
    "a = \" Hello, World! \"\n",
    "print(a.strip()) # returns \"Hello, World!\""
   ]
  },
  {
   "cell_type": "markdown",
   "id": "d6f4daa0-782c-45c0-95d9-8b566855f471",
   "metadata": {},
   "source": [
    "### Analisis:\n",
    "Kode tersebut menggunakan metode strip() untuk menghapus spasi di bagian awal dan akhir string. Variabel a memiliki spasi sebelum dan sesudah teks, dan setelah a.strip() dijalankan, hasilnya menjadi \"Hello, World!\" tanpa spasi tambahan."
   ]
  },
  {
   "cell_type": "code",
   "execution_count": 15,
   "id": "313ec2b1-a218-49bb-afa9-250ef7f3345c",
   "metadata": {},
   "outputs": [
    {
     "name": "stdout",
     "output_type": "stream",
     "text": [
      "Jello, World!\n"
     ]
    }
   ],
   "source": [
    "#Replace String\n",
    "a = \"Hello, World!\"\n",
    "print(a.replace(\"H\", \"J\"))"
   ]
  },
  {
   "cell_type": "markdown",
   "id": "06dcf7db-e629-401f-a42d-f315cacddc7a",
   "metadata": {},
   "source": [
    "### Analisis:\n",
    "Kode tersebut menggunakan metode replace() untuk mengganti karakter dalam string. Variabel a berisi \"Hello, World!\", dan perintah a.replace(\"H\", \"J\") mengganti huruf H dengan J, sehingga hasil yang dicetak adalah \"Jello, World!\"."
   ]
  },
  {
   "cell_type": "code",
   "execution_count": 16,
   "id": "5461fcdd-19bc-4df4-b4d7-79b530af0de0",
   "metadata": {},
   "outputs": [
    {
     "name": "stdout",
     "output_type": "stream",
     "text": [
      "['Hello', ' World!']\n"
     ]
    }
   ],
   "source": [
    "#Split String\n",
    "a = \"Hello, World!\"\n",
    "print(a.split(\",\")) # returns ['Hello', ' World!']"
   ]
  },
  {
   "cell_type": "markdown",
   "id": "9ddb6367-2388-49d6-9c97-08bf142c13b1",
   "metadata": {},
   "source": [
    "### Analisis:\n",
    "Kode tersebut menggunakan metode `split()` untuk memisahkan string berdasarkan tanda pemisah tertentu. Variabel `a` berisi `\"Hello, World!\"`, dan perintah `a.split(\",\")` memecah string menjadi dua bagian di setiap kemunculan koma. Hasilnya adalah sebuah list `['Hello', ' World!']`, yang berisi dua elemen teks terpisah.\n"
   ]
  },
  {
   "cell_type": "markdown",
   "id": "e43c0f29-b0b5-4ff5-9af6-75f643f2b096",
   "metadata": {},
   "source": [
    "### 4. Concatenate String"
   ]
  },
  {
   "cell_type": "code",
   "execution_count": 17,
   "id": "0bb519dd-bf99-4a56-b9b0-9cfbfd3c6cbe",
   "metadata": {},
   "outputs": [
    {
     "name": "stdout",
     "output_type": "stream",
     "text": [
      "HelloWorld\n",
      "Hello World\n"
     ]
    }
   ],
   "source": [
    "#String Concatenation\n",
    "a = \"Hello\"\n",
    "b = \"World\"\n",
    "c = a + b\n",
    "print(c)\n",
    "\n",
    "\n",
    "a = \"Hello\"\n",
    "b = \"World\"\n",
    "c = a + \" \" + b\n",
    "print(c)"
   ]
  },
  {
   "cell_type": "markdown",
   "id": "3eb1613e-356a-453b-a7e8-99f96c73b374",
   "metadata": {},
   "source": [
    "### Analisis:\n",
    "Kode tersebut menunjukkan cara menggabungkan string dengan operator +. Pada contoh pertama, variabel a dan b digabungkan langsung tanpa spasi, menghasilkan \"HelloWorld\". Pada contoh kedua, ditambahkan spasi di antara kedua string, sehingga output menjadi \"Hello World\"."
   ]
  },
  {
   "cell_type": "markdown",
   "id": "19c6c2bc-c2a1-41e7-966e-0ea1c8ae6cc5",
   "metadata": {},
   "source": [
    "### 5. Format String"
   ]
  },
  {
   "cell_type": "code",
   "execution_count": 18,
   "id": "c8ce4464-eb93-4b79-b840-74de5aa23f25",
   "metadata": {},
   "outputs": [
    {
     "ename": "TypeError",
     "evalue": "can only concatenate str (not \"int\") to str",
     "output_type": "error",
     "traceback": [
      "\u001b[1;31m---------------------------------------------------------------------------\u001b[0m",
      "\u001b[1;31mTypeError\u001b[0m                                 Traceback (most recent call last)",
      "Cell \u001b[1;32mIn[18], line 3\u001b[0m\n\u001b[0;32m      1\u001b[0m age \u001b[38;5;241m=\u001b[39m \u001b[38;5;241m36\u001b[39m\n\u001b[0;32m      2\u001b[0m \u001b[38;5;66;03m#This will produce an error:\u001b[39;00m\n\u001b[1;32m----> 3\u001b[0m txt \u001b[38;5;241m=\u001b[39m \u001b[38;5;124m\"\u001b[39m\u001b[38;5;124mMy name is John, I am \u001b[39m\u001b[38;5;124m\"\u001b[39m \u001b[38;5;241m+\u001b[39m age\n\u001b[0;32m      4\u001b[0m \u001b[38;5;28mprint\u001b[39m(txt)\n",
      "\u001b[1;31mTypeError\u001b[0m: can only concatenate str (not \"int\") to str"
     ]
    }
   ],
   "source": [
    "#kita tidak dapat menggabungkan string dan angka seperti ini:\n",
    "age = 36\n",
    "#This will produce an error:\n",
    "txt = \"My name is John, I am \" + age\n",
    "print(txt)"
   ]
  },
  {
   "cell_type": "markdown",
   "id": "587159e2-0412-47da-bc6b-f1f90afae254",
   "metadata": {},
   "source": [
    "### Analisis:\n",
    "Kode tersebut akan menghasilkan error karena mencoba menggabungkan string dengan angka menggunakan operator +. Variabel age bertipe integer, sehingga tidak dapat langsung digabungkan dengan teks. Python hanya mengizinkan penggabungan menggunakan + jika semua bagian yang digabungkan bertipe string."
   ]
  },
  {
   "cell_type": "code",
   "execution_count": 19,
   "id": "4ddd1ee2-d6ea-40f0-971f-d1731387e5b3",
   "metadata": {},
   "outputs": [
    {
     "name": "stdout",
     "output_type": "stream",
     "text": [
      "My name is John, I am 36\n"
     ]
    }
   ],
   "source": [
    "#F-Strings\n",
    "age = 36\n",
    "txt = f\"My name is John, I am {age}\"\n",
    "print(txt)"
   ]
  },
  {
   "cell_type": "markdown",
   "id": "3681cdd5-e530-491a-88b4-60b6030856c8",
   "metadata": {},
   "source": [
    "### Analisis:\n",
    "Kode tersebut menggunakan f-string untuk menggabungkan teks dengan variabel dengan cara yang lebih mudah dan rapi. Variabel age yang bernilai 36 disisipkan ke dalam string melalui {age} tanpa perlu melakukan konversi tipe secara manual. Ketika dicetak, program akan menampilkan: \"My name is John, I am 36\"."
   ]
  },
  {
   "cell_type": "code",
   "execution_count": 20,
   "id": "bfc4178e-196d-4322-9986-5d4a29c0858d",
   "metadata": {},
   "outputs": [
    {
     "name": "stdout",
     "output_type": "stream",
     "text": [
      "The price is 59 dollars\n",
      "The price is 59.00 dollars\n",
      "The price is 1180 dollars\n"
     ]
    }
   ],
   "source": [
    "#Placeholders and Modifiers\n",
    "price = 59\n",
    "txt = f\"The price is {price} dollars\"\n",
    "print(txt)\n",
    "\n",
    "\n",
    "price = 59\n",
    "txt = f\"The price is {price:.2f} dollars\"\n",
    "print(txt)\n",
    "\n",
    "\n",
    "txt = f\"The price is {20 * 59} dollars\"\n",
    "print(txt)"
   ]
  },
  {
   "cell_type": "markdown",
   "id": "def7cd0b-80da-4b72-a7a8-e2e58ef752bd",
   "metadata": {},
   "source": [
    "### Analisis:\n",
    "Kode tersebut menunjukkan penggunaan f-string untuk memformat dan menampilkan nilai dalam string dengan lebih fleksibel. Pada contoh pertama, nilai variabel price langsung dimasukkan ke dalam teks sehingga menghasilkan \"The price is 59 dollars\". Pada contoh kedua, digunakan format .2f untuk menampilkan angka dalam dua angka di belakang koma, sehingga output menjadi \"The price is 59.00 dollars\". Pada contoh ketiga, f-string juga dapat memuat ekspresi matematika, dimana 20 * 59 akan dihitung terlebih dahulu sebelum ditampilkan, sehingga hasilnya adalah \"The price is 1180 dollars\"."
   ]
  },
  {
   "cell_type": "markdown",
   "id": "c282a021-fe79-49b0-9285-c84436be7e68",
   "metadata": {},
   "source": [
    "### 6. Escape String"
   ]
  },
  {
   "cell_type": "code",
   "execution_count": null,
   "id": "a0538028-2211-4e48-8ab7-1bdef94d9cb9",
   "metadata": {},
   "outputs": [],
   "source": [
    "txt = \"We are the so-called \"Vikings\" from the north.\"\n",
    "\n",
    "txt = \"We are the so-called \\\"Vikings\\\" from the north.\""
   ]
  },
  {
   "cell_type": "markdown",
   "id": "3983c2f0-bf36-4eab-90a9-808cc21d9a2c",
   "metadata": {},
   "source": [
    "### Analisis:\n",
    "Kode tersebut menunjukkan cara menuliskan tanda kutip ganda di dalam string. Baris pertama akan menghasilkan error karena tanda kutip di sekitar kata \"Vikings\" dianggap sebagai penutup string. Pada baris kedua, digunakan karakter escape \\\" sehingga tanda kutip ganda dapat muncul sebagai bagian dari teks tanpa menutup string."
   ]
  },
  {
   "cell_type": "markdown",
   "id": "41dac9f0-bd66-43c3-afa1-37bc6e6017db",
   "metadata": {},
   "source": [
    "## Percobaan 7 Boolean"
   ]
  },
  {
   "cell_type": "code",
   "execution_count": 21,
   "id": "d590f18c-e607-4334-bff0-26498e7ff168",
   "metadata": {},
   "outputs": [
    {
     "name": "stdout",
     "output_type": "stream",
     "text": [
      "True\n",
      "False\n",
      "False\n",
      "b is not greater than a\n",
      "True\n",
      "True\n",
      "True\n",
      "True\n"
     ]
    }
   ],
   "source": [
    "#Boolean Values\n",
    "print(10 > 9)\n",
    "print(10 == 9)\n",
    "print(10 < 9)\n",
    "\n",
    "\n",
    "a = 200\n",
    "b = 33\n",
    "if b > a:\n",
    "  print(\"b is greater than a\")\n",
    "else:\n",
    "  print(\"b is not greater than a\")\n",
    "\n",
    "\n",
    "#Evaluate Values and Variables\n",
    "#Evaluate a string and a number:\n",
    "print(bool(\"Hello\"))\n",
    "print(bool(15))\n",
    "\n",
    "#Evaluate two variables:\n",
    "x = \"Hello\"\n",
    "y = 15\n",
    "print(bool(x))\n",
    "print(bool(y))"
   ]
  },
  {
   "cell_type": "markdown",
   "id": "1fa09df5-8e18-4d53-b081-8ab7703d8657",
   "metadata": {},
   "source": [
    "### Analisis:\n",
    "Kode tersebut menunjukkan penggunaan operator perbandingan dan nilai kebenaran (Boolean) dalam Python. Bagian pertama mencetak hasil perbandingan angka sehingga menghasilkan nilai True atau False. Selanjutnya, contoh if-else digunakan untuk mengevaluasi kondisi apakah b lebih besar dari a, dan mencetak pesan sesuai hasilnya. Bagian berikutnya menunjukkan bahwa fungsi bool() akan menghasilkan True untuk string yang tidak kosong dan angka selain nol. Variabel x dan y juga diuji menggunakan bool(), dan keduanya menghasilkan True karena nilai yang diberikan tidak kosong atau nol."
   ]
  },
  {
   "cell_type": "code",
   "execution_count": 22,
   "id": "42d16071-a6a1-4e96-af3c-1e4b1befb9a9",
   "metadata": {},
   "outputs": [
    {
     "data": {
      "text/plain": [
       "True"
      ]
     },
     "execution_count": 22,
     "metadata": {},
     "output_type": "execute_result"
    }
   ],
   "source": [
    "#Most Values are True\n",
    "bool(\"abc\")\n",
    "bool(123)\n",
    "bool([\"apple\", \"cherry\", \"banana\"])"
   ]
  },
  {
   "cell_type": "markdown",
   "id": "d10103d9-24c6-4242-9e16-43902b476060",
   "metadata": {},
   "source": [
    "### Analisis:\n",
    "Kode tersebut menunjukkan bahwa fungsi bool() akan mengembalikan nilai True untuk hampir semua data yang memiliki nilai atau isi. String \"abc\", angka 123, dan list [\"apple\", \"cherry\", \"banana\"] semuanya dianggap bernilai True karena tidak kosong."
   ]
  },
  {
   "cell_type": "code",
   "execution_count": 23,
   "id": "306a3665-9db6-4a6e-ac4d-e4b04880551d",
   "metadata": {},
   "outputs": [
    {
     "name": "stdout",
     "output_type": "stream",
     "text": [
      "False\n"
     ]
    }
   ],
   "source": [
    "#Some Values are False\n",
    "bool(False)\n",
    "bool(None)\n",
    "bool(0)\n",
    "bool(\"\")\n",
    "bool(())\n",
    "bool([])\n",
    "bool({})\n",
    "\n",
    "\n",
    "class myclass():\n",
    "  def __len__(self):\n",
    "    return 0\n",
    "myobj = myclass()\n",
    "print(bool(myobj))"
   ]
  },
  {
   "cell_type": "markdown",
   "id": "f3749d2b-89d0-473c-bfd4-5eca109ead71",
   "metadata": {},
   "source": [
    "### Analisis:\n",
    "Kode tersebut menunjukkan berbagai contoh nilai yang dianggap False oleh fungsi bool() di Python. Nilai seperti False, None, angka 0, string kosong \"\", tuple kosong (), list kosong [], dan dictionary kosong {} semuanya akan menghasilkan False karena tidak memiliki nilai atau isi. Pada contoh kelas myclass, metode __len__() mengembalikan nilai 0, sehingga objek myobj juga dianggap tidak memiliki panjang dan menghasilkan False ketika diuji dengan bool()."
   ]
  },
  {
   "cell_type": "code",
   "execution_count": 24,
   "id": "536f2e9b-5523-4bb0-8103-e1981ac48c52",
   "metadata": {},
   "outputs": [
    {
     "name": "stdout",
     "output_type": "stream",
     "text": [
      "True\n",
      "YES!\n",
      "True\n"
     ]
    }
   ],
   "source": [
    "#Functions can Return a Boolean\n",
    "def myFunction() :\n",
    "  return True\n",
    "print(myFunction())\n",
    "\n",
    "\n",
    "def myFunction() :\n",
    "  return True\n",
    "if myFunction():\n",
    "  print(\"YES!\")\n",
    "else:\n",
    "  print(\"NO!\")\n",
    "\n",
    "\n",
    "x = 200\n",
    "print(isinstance(x, int))"
   ]
  },
  {
   "cell_type": "markdown",
   "id": "3ceeda94-d8b9-47d4-a448-008d2ec86235",
   "metadata": {},
   "source": [
    "### Analisis:\n",
    "Kode tersebut menunjukkan penggunaan fungsi yang mengembalikan nilai Boolean serta penggunaan fungsi isinstance(). Fungsi myFunction() selalu mengembalikan True, sehingga saat dicetak hasilnya adalah True, dan dalam struktur if-else, kondisi terpenuhi sehingga program mencetak \"YES!\". Pada bagian terakhir, isinstance(x, int) digunakan untuk memeriksa apakah variabel x merupakan tipe data int. Karena x bernilai 200 dan bertipe integer, fungsi tersebut mengembalikan True."
   ]
  },
  {
   "cell_type": "markdown",
   "id": "fb2d1197-654a-4f24-993a-535c300d454e",
   "metadata": {},
   "source": [
    "## Percobaan 8 Operator"
   ]
  },
  {
   "cell_type": "markdown",
   "id": "ebb68353-71dd-4027-9ecd-f2f15e84b388",
   "metadata": {},
   "source": [
    "### 1. Python Operator"
   ]
  },
  {
   "cell_type": "code",
   "execution_count": 25,
   "id": "96285c3f-69cf-4d1c-a06b-8862328261d9",
   "metadata": {},
   "outputs": [
    {
     "name": "stdout",
     "output_type": "stream",
     "text": [
      "15\n"
     ]
    }
   ],
   "source": [
    "print(10 + 5)"
   ]
  },
  {
   "cell_type": "markdown",
   "id": "40263220-a390-4750-a7c3-46d80d435e0c",
   "metadata": {},
   "source": [
    "### Analisis:\n",
    "Kode tersebut menampilkan hasil penjumlahan dua bilangan. Ekspresi 10 + 5 akan dihitung terlebih dahulu, kemudian print() menampilkan hasilnya ke layar. Output yang dihasilkan adalah 15."
   ]
  },
  {
   "cell_type": "code",
   "execution_count": 26,
   "id": "4c232726-1615-4533-b591-148f3017f13f",
   "metadata": {},
   "outputs": [],
   "source": [
    "sum1 = 100 + 50      # 150 (100 + 50)\n",
    "sum2 = sum1 + 250    # 400 (150 + 250)\n",
    "sum3 = sum2 + sum2   # 800 (400 + 400)"
   ]
  },
  {
   "cell_type": "markdown",
   "id": "c8fe2df1-8f45-43f2-91a3-211eeb0be9fc",
   "metadata": {},
   "source": [
    "### Analisis:\n",
    "Kode tersebut menunjukkan proses penjumlahan bertahap menggunakan variabel. Nilai awal sum1 adalah hasil dari 100 + 50 yaitu 150. Nilai tersebut kemudian digunakan untuk menghitung sum2, yaitu 150 + 250 yang menghasilkan 400. Selanjutnya, sum3 dihitung dengan menjumlahkan sum2 dengan dirinya sendiri, yaitu 400 + 400 sehingga menghasilkan 800."
   ]
  },
  {
   "cell_type": "markdown",
   "id": "bd69b69b-247d-4323-9d72-72d27e750275",
   "metadata": {},
   "source": [
    "### 2. Operator Aritmatika"
   ]
  },
  {
   "cell_type": "code",
   "execution_count": 27,
   "id": "9b3f83f7-51a6-4147-ba4a-10a16a4bf11d",
   "metadata": {},
   "outputs": [
    {
     "name": "stdout",
     "output_type": "stream",
     "text": [
      "19\n",
      "11\n",
      "60\n",
      "3.75\n",
      "3\n",
      "50625\n",
      "3\n",
      "2.4\n",
      "2\n"
     ]
    }
   ],
   "source": [
    "x = 15\n",
    "y = 4\n",
    "\n",
    "print(x + y)\n",
    "print(x - y)\n",
    "print(x * y)\n",
    "print(x / y)\n",
    "print(x % y)\n",
    "print(x ** y)\n",
    "print(x // y)\n",
    "\n",
    "#Division in Python\n",
    "x = 12\n",
    "y = 5\n",
    "print(x / y)\n",
    "\n",
    "\n",
    "x = 12\n",
    "y = 5\n",
    "print(x // y)"
   ]
  },
  {
   "cell_type": "markdown",
   "id": "982356bd-6a4c-4c92-bce4-e8ae2142e7f5",
   "metadata": {},
   "source": [
    "### Analisis:\n",
    "Kode tersebut menunjukkan penggunaan berbagai operator aritmatika dalam Python untuk melakukan perhitungan matematis. Pada bagian pertama, operasi antara x = 15 dan y = 4 mencakup penjumlahan (+), pengurangan (-), perkalian (*), pembagian (/), modulus (%) untuk sisa bagi, pangkat (**), dan pembagian bulat (//) yang menghasilkan nilai tanpa desimal. Contohnya, 15 / 4 menghasilkan nilai pecahan, sedangkan 15 // 4 menghasilkan hasil pembagian bulat. Pada bagian selanjutnya, ketika x = 12 dan y = 5, 12 / 5 menghasilkan nilai desimal, sedangkan 12 // 5 menghasilkan hasil pembagian tanpa desimal."
   ]
  },
  {
   "cell_type": "markdown",
   "id": "a9c9b92d-4478-43e6-ad68-928a1fbe65ab",
   "metadata": {},
   "source": [
    "### 3. Operator Penugasan"
   ]
  },
  {
   "cell_type": "code",
   "execution_count": 28,
   "id": "4febcc94-3f8f-4729-a149-16c6d54ea1ba",
   "metadata": {},
   "outputs": [
    {
     "name": "stdout",
     "output_type": "stream",
     "text": [
      "List has 5 elements\n",
      "List has 5 elements\n"
     ]
    }
   ],
   "source": [
    "#The Walrus Operator\n",
    "numbers = [1, 2, 3, 4, 5]\n",
    "count = len(numbers)\n",
    "if count > 3:\n",
    "    print(f\"List has {count} elements\")\n",
    "if (count := len(numbers)) > 3:\n",
    "    print(f\"List has {count} elements\")"
   ]
  },
  {
   "cell_type": "markdown",
   "id": "95bbbc34-c103-46b7-a70d-d00126e02ec5",
   "metadata": {},
   "source": [
    "### Analisis:\n",
    "Kode tersebut menunjukkan dua cara untuk mengecek jumlah elemen dalam list dan mencetak pesan jika jumlahnya lebih dari tiga. Pada contoh pertama, panjang list disimpan dalam variabel count menggunakan len(numbers) lalu dicek dalam kondisi if. Pada contoh kedua, digunakan walrus operator := yang memungkinkan melakukan assignment dan pengecekan dalam satu baris, sehingga kode menjadi lebih ringkas."
   ]
  },
  {
   "cell_type": "markdown",
   "id": "e4a76ba4-d721-4900-8e05-0a8f3a4434bc",
   "metadata": {},
   "source": [
    "### 4. Operator Perbandingan"
   ]
  },
  {
   "cell_type": "code",
   "execution_count": 29,
   "id": "6fb7ccab-e547-4a63-b3d6-75644c4fd0fd",
   "metadata": {},
   "outputs": [
    {
     "name": "stdout",
     "output_type": "stream",
     "text": [
      "False\n",
      "True\n",
      "True\n",
      "False\n",
      "True\n",
      "False\n"
     ]
    }
   ],
   "source": [
    "x = 5\n",
    "y = 3\n",
    "\n",
    "print(x == y)\n",
    "print(x != y)\n",
    "print(x > y)\n",
    "print(x < y)\n",
    "print(x >= y)\n",
    "print(x <= y)"
   ]
  },
  {
   "cell_type": "markdown",
   "id": "0bcf68db-05af-4e1d-acad-0e5c05b81d60",
   "metadata": {},
   "source": [
    "### Analisis:\n",
    "Kode tersebut menunjukkan penggunaan operator perbandingan dalam Python untuk membandingkan nilai dua variabel. Dengan x = 5 dan y = 3, hasil perbandingan yang dicetak adalah: x == y menghasilkan False karena nilainya tidak sama, x != y menghasilkan True, x > y menghasilkan True, x < y menghasilkan False, x >= y menghasilkan True, dan x <= y menghasilkan False."
   ]
  },
  {
   "cell_type": "code",
   "execution_count": 30,
   "id": "52fcc5f6-93e1-4962-b13c-be2a38c48fcf",
   "metadata": {},
   "outputs": [
    {
     "name": "stdout",
     "output_type": "stream",
     "text": [
      "True\n",
      "True\n"
     ]
    }
   ],
   "source": [
    "#Chaining Comparison Operators\n",
    "x = 5\n",
    "print(1 < x < 10)\n",
    "print(1 < x and x < 10)"
   ]
  },
  {
   "cell_type": "markdown",
   "id": "d39557fa-364c-4686-86bd-920c1ce5f4a8",
   "metadata": {},
   "source": [
    "### Analisis:\n",
    "Kode tersebut menunjukkan dua cara untuk melakukan pengecekan rentang nilai pada sebuah variabel. Dengan x = 5, pernyataan 1 < x < 10 memeriksa apakah nilai x berada di antara 1 dan 10, dan hasilnya True. Contoh kedua menggunakan operator logika and untuk melakukan pengecekan yang sama, yaitu 1 < x and x < 10, dan hasilnya juga **True."
   ]
  },
  {
   "cell_type": "markdown",
   "id": "58d000e6-d860-466b-b64f-f15385ce53ea",
   "metadata": {},
   "source": [
    "### 5. Operator Logika"
   ]
  },
  {
   "cell_type": "code",
   "execution_count": 31,
   "id": "acbbb141-d70b-4680-bf79-e958c0ffb9fe",
   "metadata": {},
   "outputs": [
    {
     "name": "stdout",
     "output_type": "stream",
     "text": [
      "True\n",
      "False\n",
      "False\n"
     ]
    }
   ],
   "source": [
    "x = 5\n",
    "print(x > 0 and x < 10)\n",
    "\n",
    "\n",
    "x = 5\n",
    "print(x < 5 or x > 10)\n",
    "\n",
    "\n",
    "x = 5\n",
    "print(not(x > 3 and x < 10))"
   ]
  },
  {
   "cell_type": "markdown",
   "id": "d8b2b32c-474f-4487-be3e-eb29a9424ab5",
   "metadata": {},
   "source": [
    "### Analisis:\n",
    "Kode tersebut menunjukkan penggunaan operator logika (and, or, dan not) untuk mengevaluasi kondisi pada variabel x.\n",
    "\n",
    "Pada contoh pertama, x > 0 and x < 10 akan menghasilkan True karena kedua kondisi terpenuhi (x bernilai 5).\n",
    "\n",
    "Pada contoh kedua, x < 5 or x > 10 menghasilkan False karena tidak ada satu pun kondisi yang benar (5 tidak kurang dari 5 dan tidak lebih dari 10).\n",
    "\n",
    "Pada contoh ketiga, not(x > 3 and x < 10) awalnya kondisi di dalam kurung bernilai True, namun karena ada kata kunci not, hasil akhirnya dibalik menjadi False."
   ]
  },
  {
   "cell_type": "markdown",
   "id": "d884ceab-94ec-4e2e-a25c-826b11f1c024",
   "metadata": {},
   "source": [
    "### 6. Operator Identitas"
   ]
  },
  {
   "cell_type": "code",
   "execution_count": 32,
   "id": "58116e48-4ca8-4d9b-bd32-e59831640654",
   "metadata": {},
   "outputs": [
    {
     "name": "stdout",
     "output_type": "stream",
     "text": [
      "True\n",
      "False\n",
      "True\n",
      "True\n"
     ]
    }
   ],
   "source": [
    "x = [\"apple\", \"banana\"]\n",
    "y = [\"apple\", \"banana\"]\n",
    "z = x\n",
    "print(x is z)\n",
    "print(x is y)\n",
    "print(x == y)\n",
    "\n",
    "\n",
    "x = [\"apple\", \"banana\"]\n",
    "y = [\"apple\", \"banana\"]\n",
    "print(x is not y)"
   ]
  },
  {
   "cell_type": "markdown",
   "id": "e0dfa22d-d0ff-4b79-b967-b585188bd458",
   "metadata": {},
   "source": [
    "### Analisis:\n",
    "Pada bagian pertama, x dan z menunjuk ke objek list yang sama sehingga x is z menghasilkan True. Sementara itu, x dan y memiliki isi yang sama, tetapi merupakan objek berbeda di memori, sehingga x is y menghasilkan False, tetapi x == y menghasilkan True karena nilai/isinya sama.\n",
    "\n",
    "Pada bagian terakhir, x is not y menghasilkan True karena x dan y memang bukan objek yang sama di memori, meskipun isi list mereka identik."
   ]
  },
  {
   "cell_type": "code",
   "execution_count": 33,
   "id": "dbf82ed0-eb9b-4aa3-9309-21811dee158e",
   "metadata": {},
   "outputs": [
    {
     "name": "stdout",
     "output_type": "stream",
     "text": [
      "True\n",
      "False\n"
     ]
    }
   ],
   "source": [
    "#Difference Between is and ==\n",
    "x = [1, 2, 3]\n",
    "y = [1, 2, 3]\n",
    "\n",
    "print(x == y)\n",
    "print(x is y)"
   ]
  },
  {
   "cell_type": "markdown",
   "id": "bf80e060-7394-46f4-be5a-def3bdb08d47",
   "metadata": {},
   "source": [
    "### Analisis:\n",
    "Kode tersebut memperlihatkan perbedaan antara operator `==` dan `is` dalam Python. Meskipun list `x` dan `y` memiliki nilai atau isi yang sama sehingga `x == y` menghasilkan **True**, keduanya merupakan objek yang berbeda di memori, sehingga `x is y` menghasilkan **False**. Dengan demikian, `==` digunakan untuk membandingkan kesamaan nilai, sedangkan `is` membandingkan identitas objek di memori.\n"
   ]
  },
  {
   "cell_type": "markdown",
   "id": "8fd8920b-0391-4748-90ef-0341c273cb03",
   "metadata": {},
   "source": [
    "### 7. Operator Keanggotaan"
   ]
  },
  {
   "cell_type": "code",
   "execution_count": 34,
   "id": "d2e0ee6d-f717-432d-a94f-466a65213e5e",
   "metadata": {},
   "outputs": [
    {
     "name": "stdout",
     "output_type": "stream",
     "text": [
      "True\n",
      "True\n"
     ]
    }
   ],
   "source": [
    "fruits = [\"apple\", \"banana\", \"cherry\"]\n",
    "print(\"banana\" in fruits)\n",
    "\n",
    "\n",
    "fruits = [\"apple\", \"banana\", \"cherry\"]\n",
    "print(\"pineapple\" not in fruits)"
   ]
  },
  {
   "cell_type": "markdown",
   "id": "9a0298e0-0d56-4e6a-b9ea-388c6b018d16",
   "metadata": {},
   "source": [
    "### Analisis:\n",
    "Kode tersebut menunjukkan penggunaan operator keanggotaan in dan not in pada list. Pada contoh pertama, \"banana\" in fruits menghasilkan True karena elemen banana terdapat dalam list. Pada contoh kedua, \"pineapple\" not in fruits juga menghasilkan True karena pineapple tidak ada dalam list. Operator ini digunakan untuk memeriksa apakah suatu nilai termasuk atau tidak dalam sebuah koleksi data seperti list."
   ]
  },
  {
   "cell_type": "code",
   "execution_count": 35,
   "id": "f28d78d0-51a3-416f-8915-7a4004072981",
   "metadata": {},
   "outputs": [
    {
     "name": "stdout",
     "output_type": "stream",
     "text": [
      "True\n",
      "False\n",
      "True\n"
     ]
    }
   ],
   "source": [
    "#Membership in Strings\n",
    "text = \"Hello World\"\n",
    "\n",
    "print(\"H\" in text)\n",
    "print(\"hello\" in text)\n",
    "print(\"z\" not in text)"
   ]
  },
  {
   "cell_type": "markdown",
   "id": "c01db693-976b-4028-8c83-121f407789db",
   "metadata": {},
   "source": [
    "### Analisis:\n",
    "Kode tersebut menggunakan operator in dan not in untuk memeriksa keberadaan karakter atau teks dalam sebuah string. Ekspresi \"H\" in text menghasilkan True karena huruf H terdapat dalam string \"Hello World\", sementara \"hello\" in text menghasilkan False karena pengecekan bersifat case-sensitive dan tidak sama dengan \"Hello\". Ekspresi \"z\" not in text menghasilkan True karena huruf z memang tidak terdapat di dalam string tersebut."
   ]
  },
  {
   "cell_type": "markdown",
   "id": "a32020b5-b208-44a6-be7e-9704785d671f",
   "metadata": {},
   "source": [
    "### 8. Operator Bitwise"
   ]
  },
  {
   "cell_type": "code",
   "execution_count": 36,
   "id": "9e12da5a-1bde-41e5-8e68-560f85c1e30f",
   "metadata": {},
   "outputs": [
    {
     "name": "stdout",
     "output_type": "stream",
     "text": [
      "2\n",
      "7\n",
      "5\n"
     ]
    }
   ],
   "source": [
    "print(6 & 3)\n",
    "\n",
    "print(6 | 3)\n",
    "\n",
    "print(6 ^ 3)"
   ]
  },
  {
   "cell_type": "markdown",
   "id": "f7e761fe-013c-424d-ab21-f225dd0ca3ca",
   "metadata": {},
   "source": [
    "### Analisis:\n",
    "Kode tersebut menunjukkan penggunaan operator bitwise pada Python untuk memanipulasi nilai biner dari angka.\n",
    "\n",
    "6 & 3 melakukan operasi AND biner antara 6 (110) dan 3 (011), menghasilkan 010 atau 2.\n",
    "\n",
    "6 | 3 melakukan operasi OR biner dan menghasilkan 111 atau 7.\n",
    "\n",
    "6 ^ 3 melakukan operasi XOR biner dan menghasilkan 101 atau 5.\n",
    "\n",
    "Operator bitwise membandingkan setiap bit dari dua bilangan dan menghasilkan nilai baru berdasarkan aturan operasi bit yang digunakan."
   ]
  },
  {
   "cell_type": "markdown",
   "id": "1936a48b-165e-4f64-982d-682c6fb0e4bb",
   "metadata": {},
   "source": [
    "### 9. Prioritas Operator"
   ]
  },
  {
   "cell_type": "code",
   "execution_count": 37,
   "id": "1a3cc272-0337-4958-b181-6eef76566975",
   "metadata": {},
   "outputs": [
    {
     "name": "stdout",
     "output_type": "stream",
     "text": [
      "0\n",
      "115\n"
     ]
    }
   ],
   "source": [
    "print((6 + 3) - (6 + 3))\n",
    "\n",
    "print(100 + 5 * 3)"
   ]
  },
  {
   "cell_type": "markdown",
   "id": "773d7670-fb2c-46cc-b943-07c4f2f3e890",
   "metadata": {},
   "source": [
    "### Analisis:\n",
    "Kode tersebut menunjukkan cara Python menghitung ekspresi aritmatika sesuai urutan operasi. Pada baris pertama, ekspresi (6 + 3) - (6 + 3) menghasilkan nilai 0 karena kedua bagian bernilai 9 lalu dikurangkan. Pada baris kedua, 100 + 5 * 3 mengikuti aturan prioritas operasi (perkalian didahulukan), sehingga 5 * 3 = 15 lalu ditambahkan ke 100 menjadi 115."
   ]
  },
  {
   "cell_type": "code",
   "execution_count": 38,
   "id": "cea557cf-eddd-4c55-b4cd-cd164ee447e8",
   "metadata": {},
   "outputs": [
    {
     "name": "stdout",
     "output_type": "stream",
     "text": [
      "5\n"
     ]
    }
   ],
   "source": [
    "#Left-to-Right Evaluation\n",
    "print(5 + 4 - 7 + 3)"
   ]
  },
  {
   "cell_type": "markdown",
   "id": "cbe5dd69-b073-4762-a0e6-4cb7919842a0",
   "metadata": {},
   "source": [
    "### Analisis:\n",
    "Kode tersebut menjalankan operasi aritmatika secara berurutan dari kiri ke kanan karena hanya melibatkan penjumlahan dan pengurangan yang memiliki tingkat prioritas sama. Perhitungan 5 + 4 - 7 + 3 menghasilkan nilai 5, sehingga program akan mencetak angka 5."
   ]
  },
  {
   "cell_type": "markdown",
   "id": "a6ce218b-9221-49fc-ada6-7577c31e5524",
   "metadata": {},
   "source": [
    "## Percobaan 9 If Else"
   ]
  },
  {
   "cell_type": "markdown",
   "id": "e10e1444-87d4-4431-8d47-8c6e5ad0df61",
   "metadata": {},
   "source": [
    "### 1. If"
   ]
  },
  {
   "cell_type": "code",
   "execution_count": 39,
   "id": "8ae49af6-31e8-43a6-bc56-a3b770b99aa6",
   "metadata": {},
   "outputs": [
    {
     "name": "stdout",
     "output_type": "stream",
     "text": [
      "b is greater than a\n"
     ]
    }
   ],
   "source": [
    "a = 33\n",
    "b = 200\n",
    "if b > a:\n",
    "  print(\"b is greater than a\")"
   ]
  },
  {
   "cell_type": "markdown",
   "id": "da8b21d9-76cc-43e7-aed0-b99218a7bacd",
   "metadata": {},
   "source": [
    "### Analisis:\n",
    "Kode tersebut menggunakan pernyataan if untuk melakukan pengecekan kondisi sederhana. Variabel a bernilai 33 dan b bernilai 200, kemudian kondisi b > a diuji. Karena nilai b lebih besar dari a, kondisi bernilai True, sehingga program mengeksekusi perintah di dalam blok if dan mencetak pesan \"b is greater than a\"."
   ]
  },
  {
   "cell_type": "code",
   "execution_count": 40,
   "id": "19338657-cf12-4257-a476-e5902b2b947c",
   "metadata": {},
   "outputs": [
    {
     "name": "stdout",
     "output_type": "stream",
     "text": [
      "The number is positive\n"
     ]
    }
   ],
   "source": [
    "#Checking if a number is positive:\n",
    "number = 15\n",
    "if number > 0:\n",
    "  print(\"The number is positive\")"
   ]
  },
  {
   "cell_type": "markdown",
   "id": "e3fb674b-74e1-4565-85b3-df957724e97c",
   "metadata": {},
   "source": [
    "### Analisis:\n",
    "Kode tersebut menggunakan pernyataan if untuk mengecek apakah suatu angka bernilai positif. Variabel number berisi nilai 15, dan karena 15 lebih besar dari 0, kondisi number > 0 bernilai True, sehingga program mengeksekusi kode di dalam blok if dan mencetak pesan \"The number is positive\"."
   ]
  },
  {
   "cell_type": "code",
   "execution_count": 41,
   "id": "2296ec22-8ff4-48ba-b2dc-a138560f160f",
   "metadata": {},
   "outputs": [
    {
     "ename": "IndentationError",
     "evalue": "expected an indented block after 'if' statement on line 3 (1443227691.py, line 4)",
     "output_type": "error",
     "traceback": [
      "\u001b[1;36m  Cell \u001b[1;32mIn[41], line 4\u001b[1;36m\u001b[0m\n\u001b[1;33m    print(\"b is greater than a\") # you will get an error\u001b[0m\n\u001b[1;37m    ^\u001b[0m\n\u001b[1;31mIndentationError\u001b[0m\u001b[1;31m:\u001b[0m expected an indented block after 'if' statement on line 3\n"
     ]
    }
   ],
   "source": [
    "#Indentation\n",
    "a = 33\n",
    "b = 200\n",
    "if b > a:\n",
    "print(\"b is greater than a\") # you will get an error"
   ]
  },
  {
   "cell_type": "markdown",
   "id": "757ef041-7f84-4db8-b0f1-359ca93727bf",
   "metadata": {},
   "source": [
    "### Analisis:\n",
    "Kode tersebut akan menghasilkan error karena baris print(\"b is greater than a\") tidak memiliki indentasi yang benar. Dalam Python, blok kode setelah pernyataan if harus ditulis dengan indentasi, dan karena tidak diberi spasi atau tab, program tidak dapat mengenali bagian tersebut sebagai isi dari kondisi if."
   ]
  },
  {
   "cell_type": "code",
   "execution_count": 42,
   "id": "1b488149-03fe-4670-8247-f7d3672a3ee1",
   "metadata": {},
   "outputs": [
    {
     "name": "stdout",
     "output_type": "stream",
     "text": [
      "You are an adult\n",
      "You can vote\n",
      "You have full legal rights\n"
     ]
    }
   ],
   "source": [
    "#Multiple Statements in If Block\n",
    "age = 20\n",
    "if age >= 18:\n",
    "  print(\"You are an adult\")\n",
    "  print(\"You can vote\")\n",
    "  print(\"You have full legal rights\")"
   ]
  },
  {
   "cell_type": "markdown",
   "id": "69f9fc2c-58e4-47e8-9d63-14e69341cf7c",
   "metadata": {},
   "source": [
    "### Analisis:\n",
    "Kode tersebut menggunakan pernyataan if untuk mengecek apakah seseorang sudah memenuhi batas usia dewasa. Variabel age bernilai 20, dan karena 20 ≥ 18, kondisi age >= 18 bernilai True sehingga seluruh perintah di dalam blok if dijalankan."
   ]
  },
  {
   "cell_type": "code",
   "execution_count": 43,
   "id": "c8fac347-cbe7-4f96-958b-a7b91f6d4465",
   "metadata": {},
   "outputs": [
    {
     "name": "stdout",
     "output_type": "stream",
     "text": [
      "Welcome back!\n"
     ]
    }
   ],
   "source": [
    "#Using Variables in Conditions\n",
    "is_logged_in = True\n",
    "if is_logged_in:\n",
    "  print(\"Welcome back!\")"
   ]
  },
  {
   "cell_type": "markdown",
   "id": "ca381a5d-11d4-41bd-98a7-ed1dbba88510",
   "metadata": {},
   "source": [
    "### Analisis:\n",
    "Kode tersebut menggunakan pernyataan if untuk mengecek status login pengguna. Variabel is_logged_in bernilai True, sehingga kondisi if is_logged_in terpenuhi dan program menjalankan perintah di dalam blok if, yaitu mencetak pesan \"Welcome back!\"."
   ]
  },
  {
   "cell_type": "markdown",
   "id": "3a13d5d7-6c05-492c-bb18-3cf21cb727f3",
   "metadata": {},
   "source": [
    "### 2. Elif"
   ]
  },
  {
   "cell_type": "code",
   "execution_count": 44,
   "id": "40e9457c-3eac-4c9f-9701-030f847bac81",
   "metadata": {},
   "outputs": [
    {
     "name": "stdout",
     "output_type": "stream",
     "text": [
      "a and b are equal\n"
     ]
    }
   ],
   "source": [
    "#The Elif Keyword\n",
    "a = 33\n",
    "b = 33\n",
    "if b > a:\n",
    "  print(\"b is greater than a\")\n",
    "elif a == b:\n",
    "  print(\"a and b are equal\")"
   ]
  },
  {
   "cell_type": "markdown",
   "id": "0af0c71f-9e91-4e42-80ca-9b5f98773579",
   "metadata": {},
   "source": [
    "### Analisis:\n",
    "Kode tersebut menggunakan struktur if–elif untuk mengevaluasi beberapa kondisi. Dengan nilai a = 33 dan b = 33, kondisi pertama b > a bernilai False, sehingga program memeriksa kondisi berikutnya a == b, yang bernilai True. Karena itu, program mencetak pesan \"a and b are equal\"."
   ]
  },
  {
   "cell_type": "code",
   "execution_count": 45,
   "id": "c0ef1f02-ee7b-4186-b256-9634239ebb34",
   "metadata": {},
   "outputs": [
    {
     "name": "stdout",
     "output_type": "stream",
     "text": [
      "Grade: C\n"
     ]
    }
   ],
   "source": [
    "#Multiple Elif Statements\n",
    "score = 75\n",
    "\n",
    "if score >= 90:\n",
    "  print(\"Grade: A\")\n",
    "elif score >= 80:\n",
    "  print(\"Grade: B\")\n",
    "elif score >= 70:\n",
    "  print(\"Grade: C\")\n",
    "elif score >= 60:\n",
    "  print(\"Grade: D\")"
   ]
  },
  {
   "cell_type": "markdown",
   "id": "3daec1c8-227a-4362-b587-2db7485519bf",
   "metadata": {},
   "source": [
    "### Analisis:\n",
    "Kode tersebut menggunakan struktur if–elif untuk menentukan nilai grade berdasarkan skor. Variabel score bernilai 75, sehingga kondisi pertama dan kedua tidak terpenuhi, namun kondisi score >= 70 bernilai True, sehingga program mencetak \"Grade: C\"."
   ]
  },
  {
   "cell_type": "code",
   "execution_count": 46,
   "id": "1003057a-bcf9-4f5c-88a8-99d2820da217",
   "metadata": {},
   "outputs": [
    {
     "name": "stdout",
     "output_type": "stream",
     "text": [
      "You are an adult\n"
     ]
    }
   ],
   "source": [
    "#Categorizing age groups:\n",
    "age = 25\n",
    "\n",
    "if age < 13:\n",
    "  print(\"You are a child\")\n",
    "elif age < 20:\n",
    "  print(\"You are a teenager\")\n",
    "elif age < 65:\n",
    "  print(\"You are an adult\")\n",
    "elif age >= 65:\n",
    "  print(\"You are a senior\")"
   ]
  },
  {
   "cell_type": "markdown",
   "id": "aa00f388-e2ab-48fa-b126-d19a4b006ecb",
   "metadata": {},
   "source": [
    "### Analisis:\n",
    "Kode tersebut menggunakan struktur if–elif untuk mengelompokkan usia ke dalam kategori tertentu. Variabel age bernilai 25, sehingga kondisi pertama dan kedua tidak terpenuhi, tetapi kondisi age < 65 bernilai True, sehingga program mencetak \"You are an adult\"."
   ]
  },
  {
   "cell_type": "code",
   "execution_count": 47,
   "id": "c8def5ac-9104-44de-a2ba-87fb0fe628f5",
   "metadata": {},
   "outputs": [
    {
     "name": "stdout",
     "output_type": "stream",
     "text": [
      "Wednesday\n"
     ]
    }
   ],
   "source": [
    "#Day of the week checker:\n",
    "day = 3\n",
    "\n",
    "if day == 1:\n",
    "  print(\"Monday\")\n",
    "elif day == 2:\n",
    "  print(\"Tuesday\")\n",
    "elif day == 3:\n",
    "  print(\"Wednesday\")\n",
    "elif day == 4:\n",
    "  print(\"Thursday\")\n",
    "elif day == 5:\n",
    "  print(\"Friday\")\n",
    "elif day == 6:\n",
    "  print(\"Saturday\")\n",
    "elif day == 7:\n",
    "  print(\"Sunday\")\n"
   ]
  },
  {
   "cell_type": "markdown",
   "id": "4a80e104-4e61-4076-8e86-19d9ea8f13a7",
   "metadata": {},
   "source": [
    "### Analisis:\n",
    "Kode tersebut menggunakan struktur if–elif untuk mencetak nama hari berdasarkan nilai numerik yang diberikan. Dengan day = 3, kondisi day == 3 bernilai True, sehingga program mencetak \"Wednesday\"."
   ]
  },
  {
   "cell_type": "markdown",
   "id": "bbd064f8-f333-405b-acb7-158b4ce763b1",
   "metadata": {},
   "source": [
    "### 3. Else"
   ]
  },
  {
   "cell_type": "code",
   "execution_count": 48,
   "id": "7de91d69-4394-4322-a8ee-b1c006a71caa",
   "metadata": {},
   "outputs": [
    {
     "name": "stdout",
     "output_type": "stream",
     "text": [
      "a is greater than b\n"
     ]
    }
   ],
   "source": [
    "#The Else Keyword\n",
    "a = 200\n",
    "b = 33\n",
    "if b > a:\n",
    "  print(\"b is greater than a\")\n",
    "elif a == b:\n",
    "  print(\"a and b are equal\")\n",
    "else:\n",
    "  print(\"a is greater than b\")"
   ]
  },
  {
   "cell_type": "markdown",
   "id": "b3f22907-1419-4433-9805-155ed0c9860b",
   "metadata": {},
   "source": [
    "### Analisis:\n",
    "Kode tersebut menggunakan struktur if–elif–else untuk membandingkan dua nilai. Dengan a = 200 dan b = 33, kondisi pertama b > a bernilai False, dan kondisi kedua a == b juga False, sehingga program mengeksekusi blok else dan mencetak \"a is greater than b\"."
   ]
  },
  {
   "cell_type": "code",
   "execution_count": 49,
   "id": "2ec8cfdc-9e8c-4335-814d-f3a15e489e3d",
   "metadata": {},
   "outputs": [
    {
     "name": "stdout",
     "output_type": "stream",
     "text": [
      "b is not greater than a\n"
     ]
    }
   ],
   "source": [
    "#Else Without Elif\n",
    "a = 200\n",
    "b = 33\n",
    "if b > a:\n",
    "  print(\"b is greater than a\")\n",
    "else:\n",
    "  print(\"b is not greater than a\")"
   ]
  },
  {
   "cell_type": "markdown",
   "id": "e41deac1-6509-4efa-af61-d6666348b091",
   "metadata": {},
   "source": [
    "### Analisis:\n",
    "Kode tersebut menggunakan struktur if–else untuk membandingkan nilai dua variabel. Dengan a = 200 dan b = 33, kondisi b > a bernilai False, sehingga program menjalankan blok else dan mencetak pesan \"b is not greater than a\"."
   ]
  },
  {
   "cell_type": "code",
   "execution_count": 50,
   "id": "3d71b8d7-9dd1-4431-9411-761508dcf545",
   "metadata": {},
   "outputs": [
    {
     "name": "stdout",
     "output_type": "stream",
     "text": [
      "The number is odd\n"
     ]
    }
   ],
   "source": [
    "#How Else Works\n",
    "#Checking even or odd numbers:\n",
    "number = 7\n",
    "\n",
    "if number % 2 == 0:\n",
    "  print(\"The number is even\")\n",
    "else:\n",
    "  print(\"The number is odd\")"
   ]
  },
  {
   "cell_type": "markdown",
   "id": "5601d622-b9cb-458a-ab74-e13e3bc09dba",
   "metadata": {},
   "source": [
    "### Analisis:\n",
    "Kode tersebut menggunakan struktur if–else untuk menentukan apakah sebuah angka tergolong genap atau ganjil. Variabel number bernilai 7, lalu dilakukan pengecekan dengan number % 2 == 0. Karena sisa hasil bagi 7 dengan 2 bukan 0, kondisi tersebut bernilai False, sehingga program menjalankan blok else dan mencetak \"The number is odd\"."
   ]
  },
  {
   "cell_type": "code",
   "execution_count": 51,
   "id": "2f4ea35a-5f2a-4b27-b01a-ec14ad93493d",
   "metadata": {},
   "outputs": [
    {
     "name": "stdout",
     "output_type": "stream",
     "text": [
      "It's warm outside\n"
     ]
    }
   ],
   "source": [
    "#Complete If-Elif-Else Chain\n",
    "#Temperature classifier:\n",
    "temperature = 22\n",
    "\n",
    "if temperature > 30:\n",
    "  print(\"It's hot outside!\")\n",
    "elif temperature > 20:\n",
    "  print(\"It's warm outside\")\n",
    "elif temperature > 10:\n",
    "  print(\"It's cool outside\")\n",
    "else:\n",
    "  print(\"It's cold outside!\")"
   ]
  },
  {
   "cell_type": "markdown",
   "id": "4d6647e1-6d87-42ff-86ed-359f11ef506b",
   "metadata": {},
   "source": [
    "### Analisis:\n",
    "Kode tersebut menggunakan struktur if–elif–else untuk memberikan pesan sesuai dengan kondisi suhu. Variabel temperature bernilai 22, sehingga kondisi temperature > 30 tidak terpenuhi, tetapi temperature > 20 bernilai True, sehingga program mencetak \"It's warm outside\"."
   ]
  },
  {
   "cell_type": "code",
   "execution_count": 52,
   "id": "fe5ea09e-0227-45df-b9de-b101632c9a16",
   "metadata": {},
   "outputs": [
    {
     "name": "stdout",
     "output_type": "stream",
     "text": [
      "Welcome, Emil!\n"
     ]
    }
   ],
   "source": [
    "#Else as Fallback\n",
    "#Validating user input:\n",
    "username = \"Emil\"\n",
    "\n",
    "if len(username) > 0:\n",
    "  print(f\"Welcome, {username}!\")\n",
    "else:\n",
    "  print(\"Error: Username cannot be empty\")"
   ]
  },
  {
   "cell_type": "markdown",
   "id": "aff23a3c-3fe7-44d5-887d-766d54cbf142",
   "metadata": {},
   "source": [
    "### Analisis:\n",
    "Kode tersebut menggunakan struktur if–else untuk mengecek apakah variabel username berisi teks atau tidak. Karena username bernilai \"Emil\" dan panjangnya lebih dari 0, kondisi len(username) > 0 bernilai True, sehingga program menampilkan pesan \"Welcome, Emil!\"."
   ]
  },
  {
   "cell_type": "markdown",
   "id": "e43272a5-e6d3-4785-860c-545b974a6a9b",
   "metadata": {},
   "source": [
    "### 4. Shorthand If"
   ]
  },
  {
   "cell_type": "code",
   "execution_count": 53,
   "id": "9fc86c42-2d96-4f18-97c1-4a3d256601bc",
   "metadata": {},
   "outputs": [
    {
     "name": "stdout",
     "output_type": "stream",
     "text": [
      "a is greater than b\n"
     ]
    }
   ],
   "source": [
    "#Short Hand If\n",
    "a = 5\n",
    "b = 2\n",
    "if a > b: print(\"a is greater than b\")"
   ]
  },
  {
   "cell_type": "markdown",
   "id": "db981c29-c8b0-4999-a2e8-e55f4ab943a5",
   "metadata": {},
   "source": [
    "### Analisis:\n",
    "Kode tersebut menggunakan bentuk if satu baris (short-hand if) untuk mengeksekusi perintah langsung setelah kondisi. Karena nilai a (5) lebih besar daripada b (2), kondisi a > b bernilai True dan program mencetak \"a is greater than b\"."
   ]
  },
  {
   "cell_type": "code",
   "execution_count": 54,
   "id": "9ad63cbf-efcd-4ae7-a63d-078abd5c544e",
   "metadata": {},
   "outputs": [
    {
     "name": "stdout",
     "output_type": "stream",
     "text": [
      "B\n"
     ]
    }
   ],
   "source": [
    "#Short Hand If ... Else\n",
    "a = 2\n",
    "b = 330\n",
    "print(\"A\") if a > b else print(\"B\")"
   ]
  },
  {
   "cell_type": "markdown",
   "id": "3315b118-4e7d-4288-86a5-114972fb922f",
   "metadata": {},
   "source": [
    "### Analisis:\n",
    "Kode tersebut menggunakan short-hand if–else dalam satu baris. Dengan nilai a = 2 dan b = 330, kondisi a > b bernilai False, sehingga bagian setelah else dijalankan dan program mencetak \"B\"."
   ]
  },
  {
   "cell_type": "code",
   "execution_count": 55,
   "id": "5adac131-bde6-467a-b75b-a3e90f54eb91",
   "metadata": {},
   "outputs": [
    {
     "name": "stdout",
     "output_type": "stream",
     "text": [
      "Bigger is 20\n"
     ]
    },
    {
     "ename": "NameError",
     "evalue": "name 'condition' is not defined",
     "output_type": "error",
     "traceback": [
      "\u001b[1;31m---------------------------------------------------------------------------\u001b[0m",
      "\u001b[1;31mNameError\u001b[0m                                 Traceback (most recent call last)",
      "Cell \u001b[1;32mIn[55], line 6\u001b[0m\n\u001b[0;32m      3\u001b[0m bigger \u001b[38;5;241m=\u001b[39m a \u001b[38;5;28;01mif\u001b[39;00m a \u001b[38;5;241m>\u001b[39m b \u001b[38;5;28;01melse\u001b[39;00m b\n\u001b[0;32m      4\u001b[0m \u001b[38;5;28mprint\u001b[39m(\u001b[38;5;124m\"\u001b[39m\u001b[38;5;124mBigger is\u001b[39m\u001b[38;5;124m\"\u001b[39m, bigger)\n\u001b[1;32m----> 6\u001b[0m variable \u001b[38;5;241m=\u001b[39m value_if_true \u001b[38;5;28;01mif\u001b[39;00m condition \u001b[38;5;28;01melse\u001b[39;00m value_if_false\n",
      "\u001b[1;31mNameError\u001b[0m: name 'condition' is not defined"
     ]
    }
   ],
   "source": [
    "#Assign a Value With If ... Else\n",
    "a = 10\n",
    "b = 20\n",
    "bigger = a if a > b else b\n",
    "print(\"Bigger is\", bigger)\n",
    "\n",
    "#The syntax follows this pattern:\n",
    "variable = value_if_true if condition else value_if_false"
   ]
  },
  {
   "cell_type": "markdown",
   "id": "f3274c0d-8195-4d10-a3a0-9520fe2f82ec",
   "metadata": {},
   "source": [
    "### Analisis:\n",
    "Kode tersebut menggunakan short-hand if–else (ternary operator) untuk menentukan nilai variabel berdasarkan kondisi. Dengan a = 10 dan b = 20, ekspresi a if a > b else b memilih nilai yang lebih besar, yaitu b, sehingga variabel bigger bernilai 20 dan program mencetak \"Bigger is 20\". Baris terakhir menunjukkan format umum penulisan ternary operator di Python:\n",
    "variable = value_if_true if condition else value_if_false."
   ]
  },
  {
   "cell_type": "code",
   "execution_count": 56,
   "id": "7e4d5346-3652-46c6-8ad1-23cdf4ea6556",
   "metadata": {},
   "outputs": [
    {
     "name": "stdout",
     "output_type": "stream",
     "text": [
      "=\n"
     ]
    }
   ],
   "source": [
    "#Multiple Conditions on One Line\n",
    "a = 330\n",
    "b = 330\n",
    "print(\"A\") if a > b else print(\"=\") if a == b else print(\"B\")"
   ]
  },
  {
   "cell_type": "markdown",
   "id": "2356d55a-17b6-4fb9-b2b6-599305b2b398",
   "metadata": {},
   "source": [
    "### Analisis:\n",
    "Kode tersebut menggunakan ternary operator bertingkat untuk mengevaluasi beberapa kondisi dalam satu baris. Dengan a = 330 dan b = 330, kondisi pertama a > b bernilai False, sehingga dilanjutkan ke kondisi berikutnya a == b yang bernilai True, sehingga program mencetak \"=\"."
   ]
  },
  {
   "cell_type": "code",
   "execution_count": 57,
   "id": "f9456ee8-2633-4e47-87d6-654e167a1852",
   "metadata": {},
   "outputs": [
    {
     "name": "stdout",
     "output_type": "stream",
     "text": [
      "Maximum value: 20\n",
      "Welcome, Guest\n"
     ]
    }
   ],
   "source": [
    "#Practical Examples\n",
    "#Finding the maximum of two numbers:\n",
    "x = 15\n",
    "y = 20\n",
    "max_value = x if x > y else y\n",
    "print(\"Maximum value:\", max_value)\n",
    "\n",
    "#Setting a default value:\n",
    "username = \"\"\n",
    "display_name = username if username else \"Guest\"\n",
    "print(\"Welcome,\", display_name)"
   ]
  },
  {
   "cell_type": "markdown",
   "id": "bb88f115-5f73-4cd5-935e-37941e1ef3aa",
   "metadata": {},
   "source": [
    "### Analisis:\n",
    "Kode tersebut menunjukkan penggunaan ternary operator untuk memilih nilai berdasarkan kondisi. Pada contoh pertama, x dan y dibandingkan, dan karena y lebih besar, max_value menyimpan nilai 20 dan program mencetak \"Maximum value: 20\". Pada contoh kedua, variabel username bernilai string kosong, sehingga kondisi setelah if dianggap False dan display_name diisi dengan \"Guest\". Program kemudian mencetak \"Welcome, Guest\"."
   ]
  },
  {
   "cell_type": "markdown",
   "id": "e5a9f257-99b1-4b9d-a920-a167e41db0b5",
   "metadata": {},
   "source": [
    "### 5. Logical Operator"
   ]
  },
  {
   "cell_type": "code",
   "execution_count": 58,
   "id": "7124a8bb-ebd0-4b5d-bef0-eeb70d118f6a",
   "metadata": {},
   "outputs": [
    {
     "name": "stdout",
     "output_type": "stream",
     "text": [
      "Both conditions are True\n"
     ]
    }
   ],
   "source": [
    "#The and Operator\n",
    "a = 200\n",
    "b = 33\n",
    "c = 500\n",
    "if a > b and c > a:\n",
    "  print(\"Both conditions are True\")"
   ]
  },
  {
   "cell_type": "markdown",
   "id": "5a3cdb6a-356e-48e9-9691-d08623e9ccbc",
   "metadata": {},
   "source": [
    "### Analisis:\n",
    "Kode tersebut menggunakan operator logika and untuk mengecek dua kondisi sekaligus. Dengan nilai a = 200, b = 33, dan c = 500, kondisi a > b bernilai True dan c > a juga True, sehingga kedua kondisi terpenuhi. Karena kedua syarat benar, program mengeksekusi perintah di dalam blok if dan mencetak \"Both conditions are True\"."
   ]
  },
  {
   "cell_type": "code",
   "execution_count": 59,
   "id": "a50a227c-955a-4473-9a6d-7b136dd5859a",
   "metadata": {},
   "outputs": [
    {
     "name": "stdout",
     "output_type": "stream",
     "text": [
      "At least one of the conditions is True\n"
     ]
    }
   ],
   "source": [
    "#The or Operator\n",
    "a = 200\n",
    "b = 33\n",
    "c = 500\n",
    "if a > b or a > c:\n",
    "  print(\"At least one of the conditions is True\")"
   ]
  },
  {
   "cell_type": "markdown",
   "id": "c2eea3fd-21ee-4a65-aa0b-589184482434",
   "metadata": {},
   "source": [
    "### Analisis:\n",
    "Kode tersebut menggunakan operator logika or untuk mengecek apakah minimal satu dari dua kondisi bernilai benar. Dengan a = 200, b = 33, dan c = 500, kondisi a > b bernilai True, sementara a > c bernilai False. Karena operator or hanya membutuhkan satu kondisi yang benar, program tetap mengeksekusi blok if dan mencetak \"At least one of the conditions is True\"."
   ]
  },
  {
   "cell_type": "code",
   "execution_count": 60,
   "id": "cf5c19a0-a2e2-448f-b51e-11b0cd66a638",
   "metadata": {},
   "outputs": [
    {
     "name": "stdout",
     "output_type": "stream",
     "text": [
      "a is NOT greater than b\n"
     ]
    }
   ],
   "source": [
    "#The not Operator\n",
    "a = 33\n",
    "b = 200\n",
    "if not a > b:\n",
    "  print(\"a is NOT greater than b\")"
   ]
  },
  {
   "cell_type": "markdown",
   "id": "372a0fb8-f3da-4470-a800-8e43d56d7ef4",
   "metadata": {},
   "source": [
    "### Analisis:\n",
    "Kode tersebut menggunakan operator not untuk membalik hasil kondisi. Dengan a = 33 dan b = 200, kondisi a > b sebenarnya False, namun karena dibalik dengan not, hasilnya menjadi True, sehingga program mengeksekusi perintah dalam blok if dan mencetak \"a is NOT greater than b\"."
   ]
  },
  {
   "cell_type": "code",
   "execution_count": 61,
   "id": "6311df24-345f-4e77-b833-0782ff2b3b02",
   "metadata": {},
   "outputs": [
    {
     "name": "stdout",
     "output_type": "stream",
     "text": [
      "Discount applies!\n"
     ]
    }
   ],
   "source": [
    "#Combining Multiple Operators\n",
    "age = 25\n",
    "is_student = False\n",
    "has_discount_code = True\n",
    "\n",
    "if (age < 18 or age > 65) and not is_student or has_discount_code:\n",
    "  print(\"Discount applies!\")"
   ]
  },
  {
   "cell_type": "markdown",
   "id": "a8f15b5c-7a18-45e2-95a3-0a44fd1fd0f9",
   "metadata": {},
   "source": [
    "### Analisis:\n",
    "Kode tersebut menggunakan kombinasi operator logika or, and, dan not untuk menentukan apakah diskon berlaku. Dengan age = 25, is_student = False, dan has_discount_code = True, ekspresi (age < 18 or age > 65) bernilai False, not is_student bernilai True, dan has_discount_code juga True. Karena terdapat kondisi yang bernilai True dan operator or digunakan di antaranya, hasil keseluruhan ekspresi adalah True, sehingga program mencetak \"Discount applies!\"."
   ]
  },
  {
   "cell_type": "code",
   "execution_count": 62,
   "id": "00f180a3-aad4-476d-96c3-2482137c66b0",
   "metadata": {},
   "outputs": [
    {
     "name": "stdout",
     "output_type": "stream",
     "text": [
      "Great day for outdoor activities!\n"
     ]
    }
   ],
   "source": [
    "#Using Parentheses for Clarity\n",
    "temperature = 25\n",
    "is_raining = False\n",
    "is_weekend = True\n",
    "\n",
    "if (temperature > 20 and not is_raining) or is_weekend:\n",
    "  print(\"Great day for outdoor activities!\")"
   ]
  },
  {
   "cell_type": "markdown",
   "id": "f6358b6d-7f5a-44a8-88eb-d5cef8a8ae48",
   "metadata": {},
   "source": [
    "### Analisis:\n",
    "Kode tersebut menggunakan kombinasi operator logika untuk mengevaluasi kondisi cuaca dan waktu sebelum menampilkan rekomendasi. Dengan temperature = 25, is_raining = False, dan is_weekend = True, ekspresi (temperature > 20 and not is_raining) bernilai True, dan is_weekend juga True, sehingga keseluruhan kondisi menghasilkan True. Akibatnya, program mengeksekusi perintah dalam blok if dan mencetak \"Great day for outdoor activities!\"."
   ]
  },
  {
   "cell_type": "code",
   "execution_count": 63,
   "id": "37d32b97-1ce7-4e61-ab19-510a9104510a",
   "metadata": {},
   "outputs": [
    {
     "name": "stdout",
     "output_type": "stream",
     "text": [
      "Login successful\n",
      "Valid score\n"
     ]
    }
   ],
   "source": [
    "#User authentication check:\n",
    "username = \"Tobias\"\n",
    "password = \"secret123\"\n",
    "is_verified = True\n",
    "\n",
    "if username and password and is_verified:\n",
    "  print(\"Login successful\")\n",
    "else:\n",
    "  print(\"Login failed\")\n",
    "\n",
    "#Range checking with logical operators:\n",
    "score = 85\n",
    "\n",
    "if score >= 0 and score <= 100:\n",
    "  print(\"Valid score\")\n",
    "else:\n",
    "  print(\"Invalid score\")"
   ]
  },
  {
   "cell_type": "markdown",
   "id": "485bde05-954e-4097-a1f3-cd8a0a4e02da",
   "metadata": {},
   "source": [
    "### Analisis:\n",
    "Kode pertama melakukan pengecekan login dengan menggunakan operator logika and, di mana login dinyatakan berhasil jika username, password, dan is_verified semuanya bernilai True. Karena semua kondisi terpenuhi (username dan password tidak kosong serta is_verified bernilai True), program akan mencetak \"Login successful\". Kode kedua memvalidasi nilai score dengan memeriksa apakah berada dalam rentang 0 hingga 100. Karena nilai score adalah 85 dan berada dalam rentang yang benar, program mencetak \"Valid score\"."
   ]
  },
  {
   "cell_type": "markdown",
   "id": "6c59a3fa-914a-4d9c-96d8-dec2abe72a55",
   "metadata": {},
   "source": [
    "### 6. Nested If"
   ]
  },
  {
   "cell_type": "code",
   "execution_count": 64,
   "id": "28bb15a3-56c3-496b-8dd2-14500ecc7568",
   "metadata": {},
   "outputs": [
    {
     "name": "stdout",
     "output_type": "stream",
     "text": [
      "Above ten,\n",
      "and also above 20!\n"
     ]
    }
   ],
   "source": [
    "x = 41\n",
    "\n",
    "if x > 10:\n",
    "  print(\"Above ten,\")\n",
    "  if x > 20:\n",
    "    print(\"and also above 20!\")\n",
    "  else:\n",
    "    print(\"but not above 20.\")"
   ]
  },
  {
   "cell_type": "markdown",
   "id": "3d36bc1d-dc4f-4249-a159-b2ca23f473be",
   "metadata": {},
   "source": [
    "### Analisis:\n",
    "Kode tersebut menunjukkan penggunaan nested if atau percabangan bersarang. Variabel x bernilai 41, sehingga kondisi pertama x > 10 bernilai True dan program mencetak \"Above ten,\". Karena kondisi tersebut terpenuhi, pengecekan dilanjutkan ke kondisi di dalamnya, yaitu x > 20, yang juga bernilai True, sehingga program mencetak \"and also above 20!\"."
   ]
  },
  {
   "cell_type": "code",
   "execution_count": 65,
   "id": "c6bf3a2d-2f8d-48f7-a59f-e4194d81df10",
   "metadata": {},
   "outputs": [
    {
     "name": "stdout",
     "output_type": "stream",
     "text": [
      "You can drive\n"
     ]
    }
   ],
   "source": [
    "#How Nested If Works\n",
    "age = 25\n",
    "has_license = True\n",
    "\n",
    "if age >= 18:\n",
    "  if has_license:\n",
    "    print(\"You can drive\")\n",
    "  else:\n",
    "    print(\"You need a license\")\n",
    "else:\n",
    "  print(\"You are too young to drive\")"
   ]
  },
  {
   "cell_type": "markdown",
   "id": "5f81af78-a741-4224-a526-93d68102132c",
   "metadata": {},
   "source": [
    "### Analisis:\n",
    "Kode tersebut menggunakan percabangan bersarang (nested if) untuk menentukan apakah seseorang boleh mengemudi. Variabel age bernilai 25, sehingga kondisi age >= 18 bernilai True, dan program melanjutkan ke pengecekan berikutnya. Karena has_license juga bernilai True, program mencetak \"You can drive\"."
   ]
  },
  {
   "cell_type": "code",
   "execution_count": 66,
   "id": "ccda795a-f6a0-48c8-9954-4f7a25dfb59a",
   "metadata": {},
   "outputs": [
    {
     "name": "stdout",
     "output_type": "stream",
     "text": [
      "Pass with good standing\n"
     ]
    }
   ],
   "source": [
    "#Multiple Levels of Nesting\n",
    "score = 85\n",
    "attendance = 90\n",
    "submitted = True\n",
    "\n",
    "if score >= 60:\n",
    "  if attendance >= 80:\n",
    "    if submitted:\n",
    "      print(\"Pass with good standing\")\n",
    "    else:\n",
    "      print(\"Pass but missing assignment\")\n",
    "  else:\n",
    "    print(\"Pass but low attendance\")\n",
    "else:\n",
    "  print(\"Fail\")"
   ]
  },
  {
   "cell_type": "markdown",
   "id": "d47f0543-0297-4f2a-918f-cc53d306ac1c",
   "metadata": {},
   "source": [
    "### Analisis:\n",
    "Kode tersebut menggunakan nested if bertingkat untuk menentukan status kelulusan berdasarkan tiga kriteria: nilai, kehadiran, dan pengumpulan tugas. Dengan score = 85, attendance = 90, dan submitted = True, semua kondisi utama terpenuhi, sehingga program mencetak \"Pass with good standing\". Struktur ini memeriksa setiap syarat secara berurutan, dan hanya jika suatu syarat terpenuhi barulah syarat berikutnya diuji, sehingga penilaian menjadi lebih spesifik dan terperinci."
   ]
  },
  {
   "cell_type": "code",
   "execution_count": 67,
   "id": "f7600b93-f42e-422d-98db-d65dac67641e",
   "metadata": {},
   "outputs": [
    {
     "name": "stdout",
     "output_type": "stream",
     "text": [
      "Perfect beach weather!\n",
      "Perfect beach weather!\n"
     ]
    }
   ],
   "source": [
    "#Nested If vs Logical Operators\n",
    "#This nested if:\n",
    "temperature = 25\n",
    "is_sunny = True\n",
    "\n",
    "if temperature > 20:\n",
    "  if is_sunny:\n",
    "    print(\"Perfect beach weather!\")\n",
    "\n",
    "#Could also be written with and:\n",
    "temperature = 25\n",
    "is_sunny = True\n",
    "\n",
    "if temperature > 20 and is_sunny:\n",
    "  print(\"Perfect beach weather!\")"
   ]
  },
  {
   "cell_type": "markdown",
   "id": "73e794ac-f7f7-44ef-826a-ce87ebfd1b17",
   "metadata": {},
   "source": [
    "### Analisis:\n",
    "Kedua potongan kode tersebut menghasilkan output yang sama, yaitu mencetak \"Perfect beach weather!\" ketika suhu di atas 20 dan cuacanya cerah. Contoh pertama menggunakan nested if di mana kondisi is_sunny hanya diperiksa jika temperature > 20 bernilai True, sedangkan contoh kedua menggunakan operator logika and untuk memeriksa kedua kondisi dalam satu baris."
   ]
  },
  {
   "cell_type": "code",
   "execution_count": 68,
   "id": "4b90f159-644d-47c8-b91c-35a707e1b0a7",
   "metadata": {},
   "outputs": [
    {
     "name": "stdout",
     "output_type": "stream",
     "text": [
      "Login successful\n",
      "A+ grade\n"
     ]
    }
   ],
   "source": [
    "#Login validation with nested checks:\n",
    "username = \"Emil\"\n",
    "password = \"python123\"\n",
    "is_active = True\n",
    "\n",
    "if username:\n",
    "  if password:\n",
    "    if is_active:\n",
    "      print(\"Login successful\")\n",
    "    else:\n",
    "      print(\"Account is not active\")\n",
    "  else:\n",
    "    print(\"Password required\")\n",
    "else:\n",
    "  print(\"Username required\")\n",
    "\n",
    "#Grade calculation with nested logic:\n",
    "score = 92\n",
    "extra_credit = 5\n",
    "\n",
    "if score >= 90:\n",
    "  if extra_credit > 0:\n",
    "    print(\"A+ grade\")\n",
    "  else:\n",
    "    print(\"A grade\")\n",
    "elif score >= 80:\n",
    "  print(\"B grade\")\n",
    "else:\n",
    "  print(\"C grade or below\")"
   ]
  },
  {
   "cell_type": "markdown",
   "id": "f2cdff87-da64-4178-a042-100bc7313235",
   "metadata": {},
   "source": [
    "### Analisis:\n",
    "Kode pertama menggunakan nested if untuk memvalidasi login berdasarkan tiga kondisi: username, password, dan status akun (is_active). Karena semua kondisi bernilai True, program mencetak \"Login successful\". Kode kedua menilai nilai akhir berdasarkan skor dan tambahan nilai. Karena score bernilai 92 dan memenuhi kondisi score >= 90, program memeriksa apakah terdapat extra_credit, dan karena nilainya lebih dari 0, program mencetak \"A+ grade\"."
   ]
  },
  {
   "cell_type": "markdown",
   "id": "f2efaf9d-add0-4382-b9cb-510ee5432515",
   "metadata": {},
   "source": [
    "### 7. Pass Statement"
   ]
  },
  {
   "cell_type": "code",
   "execution_count": 70,
   "id": "ef2aac75-7632-49af-b95e-adf036cb4f9a",
   "metadata": {},
   "outputs": [],
   "source": [
    "a = 33\n",
    "b = 200\n",
    "\n",
    "if b > a:\n",
    "  pass"
   ]
  },
  {
   "cell_type": "markdown",
   "id": "57e2f3eb-b6c8-4de7-a535-c3ca505abd18",
   "metadata": {},
   "source": [
    "### Analisis:\n",
    "Kode tersebut menggunakan pernyataan pass di dalam blok if. Variabel a bernilai 33 dan b bernilai 200, sehingga kondisi b > a sebenarnya True, namun karena blok if hanya berisi pass, program tidak melakukan tindakan apa pun. Kata kunci pass digunakan sebagai placeholder untuk menjaga struktur kode tetap valid ketika belum ada perintah yang ingin dijalankan di dalam blok tersebut."
   ]
  },
  {
   "cell_type": "code",
   "execution_count": 72,
   "id": "0ae23c56-53bb-4cbb-b57f-e967e28cd7f3",
   "metadata": {},
   "outputs": [],
   "source": [
    "#Placeholder for future implementation:\n",
    "age = 16\n",
    "\n",
    "if age < 18:\n",
    "  pass # TODO: Add underage logic later\n",
    "else:\n",
    "  print(\"Access granted\")"
   ]
  },
  {
   "cell_type": "markdown",
   "id": "3e378728-ba57-495e-8b34-58526a1c3803",
   "metadata": {},
   "source": [
    "### Analisis:\n",
    "Kode tersebut menggunakan pass sebagai placeholder dalam blok if ketika kondisi age < 18 terpenuhi. Karena age bernilai 16, kondisi tersebut True, tetapi tidak ada aksi yang dijalankan karena pass hanya berfungsi menjaga blok tetap kosong dan valid. Komentar # TODO: Add underage logic later menunjukkan bahwa logika untuk pengguna di bawah umur akan ditambahkan kemudian. Jika usia tidak kurang dari 18, barulah program mengeksekusi blok else dan mencetak \"Access granted\"."
   ]
  },
  {
   "cell_type": "code",
   "execution_count": 73,
   "id": "011bd0f3-e315-4716-a4af-6e009556fb1c",
   "metadata": {},
   "outputs": [
    {
     "ename": "_IncompleteInputError",
     "evalue": "incomplete input (2330558437.py, line 5)",
     "output_type": "error",
     "traceback": [
      "\u001b[1;36m  Cell \u001b[1;32mIn[73], line 5\u001b[1;36m\u001b[0m\n\u001b[1;33m    # This will raise an IndentationError\u001b[0m\n\u001b[1;37m                                         ^\u001b[0m\n\u001b[1;31m_IncompleteInputError\u001b[0m\u001b[1;31m:\u001b[0m incomplete input\n"
     ]
    }
   ],
   "source": [
    "#pass vs Comments\n",
    "score = 85\n",
    "\n",
    "if score > 90:\n",
    "  # This is excellent\n",
    "# This will raise an IndentationError"
   ]
  },
  {
   "cell_type": "markdown",
   "id": "2b83c314-481f-458c-af8a-bc598a84aa75",
   "metadata": {},
   "source": [
    "### Analisis:\n",
    "Kode tersebut akan menimbulkan IndentationError karena setelah pernyataan if score > 90: terdapat komentar yang tidak berada dalam blok yang ter-indent. Python mengharuskan adanya blok kode yang menjorok ke dalam setelah sebuah kondisi if, meskipun isinya hanya komentar atau satu baris kode."
   ]
  },
  {
   "cell_type": "code",
   "execution_count": 74,
   "id": "567c157f-b6bf-4f4d-ba79-47f5836b9da1",
   "metadata": {},
   "outputs": [
    {
     "name": "stdout",
     "output_type": "stream",
     "text": [
      "Score processed\n"
     ]
    }
   ],
   "source": [
    "#This works correctly with pass:\n",
    "score = 85\n",
    "\n",
    "if score > 90:\n",
    "  pass # This is excellent\n",
    "print(\"Score processed\")"
   ]
  },
  {
   "cell_type": "markdown",
   "id": "d4229701-97ae-482c-8bde-da9d51f6d0bd",
   "metadata": {},
   "source": [
    "### Analisis:\n",
    "Kode tersebut menggunakan pass untuk mengisi blok if agar tetap valid tanpa menjalankan aksi apa pun. Karena score = 85 tidak memenuhi kondisi score > 90, blok if dilewati dan program langsung menjalankan perintah berikutnya, yaitu mencetak \"Score processed\". Penggunaan pass di sini berguna sebagai placeholder ketika logika di dalam if akan ditambahkan nanti."
   ]
  },
  {
   "cell_type": "code",
   "execution_count": 75,
   "id": "1ded3a31-353e-47fa-b67d-f16b806709df",
   "metadata": {},
   "outputs": [
    {
     "name": "stdout",
     "output_type": "stream",
     "text": [
      "Positive value\n"
     ]
    }
   ],
   "source": [
    "#pass with Multiple Conditions\n",
    "value = 50\n",
    "\n",
    "if value < 0:\n",
    "  print(\"Negative value\")\n",
    "elif value == 0:\n",
    "  pass # Zero case - no action needed\n",
    "else:\n",
    "  print(\"Positive value\")"
   ]
  },
  {
   "cell_type": "markdown",
   "id": "4b418c03-f815-493d-9c17-1940d3e9e4da",
   "metadata": {},
   "source": [
    "### Analisis:\n",
    "Kode tersebut menggunakan pass dalam blok elif sebagai placeholder ketika nilai value sama dengan 0, menandakan bahwa tidak ada aksi yang perlu dilakukan untuk kondisi tersebut. Dengan value = 50, kondisi value < 0 bernilai False, lalu value == 0 juga False, sehingga program menjalankan blok else dan mencetak \"Positive value\"."
   ]
  },
  {
   "cell_type": "code",
   "execution_count": 76,
   "id": "d5b6c7b5-5df3-4051-aa97-ca6f3e6b9b5a",
   "metadata": {},
   "outputs": [],
   "source": [
    "#pass in Other Contexts\n",
    "def calculate_discount(price):\n",
    "  pass # TODO: Implement discount logic\n",
    "\n",
    "# Function exists but doesn't do anything yet"
   ]
  },
  {
   "cell_type": "markdown",
   "id": "b37a6d2e-5650-4878-b1e3-e30de5b4c65d",
   "metadata": {},
   "source": [
    "### Analisis:\n",
    "Kode tersebut mendefinisikan sebuah fungsi calculate_discount(price) namun belum berisi logika apa pun karena hanya menggunakan pass sebagai placeholder. Hal ini menandakan bahwa fungsi tersebut sudah dibuat agar dapat dipanggil, tetapi logika perhitungan diskonnya akan diimplementasikan nanti."
   ]
  },
  {
   "cell_type": "markdown",
   "id": "2e5db841-23e6-4790-ac4f-41fdb0065c70",
   "metadata": {},
   "source": [
    "## Percobaan 10 Match"
   ]
  },
  {
   "cell_type": "code",
   "execution_count": 77,
   "id": "7da6a214-194b-4770-83c1-5c00fd1036f2",
   "metadata": {},
   "outputs": [
    {
     "name": "stdout",
     "output_type": "stream",
     "text": [
      "Thursday\n"
     ]
    }
   ],
   "source": [
    "day = 4\n",
    "match day:\n",
    "  case 1:\n",
    "    print(\"Monday\")\n",
    "  case 2:\n",
    "    print(\"Tuesday\")\n",
    "  case 3:\n",
    "    print(\"Wednesday\")\n",
    "  case 4:\n",
    "    print(\"Thursday\")\n",
    "  case 5:\n",
    "    print(\"Friday\")\n",
    "  case 6:\n",
    "    print(\"Saturday\")\n",
    "  case 7:\n",
    "    print(\"Sunday\")"
   ]
  },
  {
   "cell_type": "markdown",
   "id": "5f0d088c-d82c-4730-892d-d9502f19f5a3",
   "metadata": {},
   "source": [
    "### Analisis:\n",
    "Kode tersebut menggunakan struktur match–case, fitur seperti switch dalam Python, untuk mencetak nama hari berdasarkan nilai variabel day. Dengan day = 4, program akan mencocokkan nilai tersebut dengan case yang sesuai dan mengeksekusi perintah pada case 4, sehingga mencetak \"Thursday\"."
   ]
  },
  {
   "cell_type": "code",
   "execution_count": 78,
   "id": "3754ac2c-47e0-45f7-a7de-1a8f1c36fb08",
   "metadata": {},
   "outputs": [
    {
     "name": "stdout",
     "output_type": "stream",
     "text": [
      "Looking forward to the Weekend\n"
     ]
    }
   ],
   "source": [
    "# Default Value\n",
    "day = 4\n",
    "match day:\n",
    "  case 6:\n",
    "    print(\"Today is Saturday\")\n",
    "  case 7:\n",
    "    print(\"Today is Sunday\")\n",
    "  case _:\n",
    "    print(\"Looking forward to the Weekend\")"
   ]
  },
  {
   "cell_type": "markdown",
   "id": "bfa6f7e9-4027-4b50-9296-f3b7442c04e5",
   "metadata": {},
   "source": [
    "### Analisis:\n",
    "Kode tersebut menggunakan struktur match–case dengan default case menggunakan simbol _. Variabel day bernilai 4, dan karena tidak cocok dengan case 6 atau case 7, program menjalankan case _ sebagai opsi default dan mencetak \"Looking forward to the Weekend\". Case _ berfungsi seperti default pada switch di bahasa lain, yaitu dijalankan jika tidak ada case yang sesuai."
   ]
  },
  {
   "cell_type": "code",
   "execution_count": 79,
   "id": "dd3fa535-15dd-4fbf-bc43-117fa389a3bd",
   "metadata": {},
   "outputs": [
    {
     "name": "stdout",
     "output_type": "stream",
     "text": [
      "Today is a weekday\n"
     ]
    }
   ],
   "source": [
    "# Combine Values\n",
    "day = 4\n",
    "match day:\n",
    "  case 1 | 2 | 3 | 4 | 5:\n",
    "    print(\"Today is a weekday\")\n",
    "  case 6 | 7:\n",
    "    print(\"I love weekends!\")"
   ]
  },
  {
   "cell_type": "markdown",
   "id": "ea984a6f-db46-4016-bbc4-9da2c5098b81",
   "metadata": {},
   "source": [
    "### Analisis:\n",
    "Kode tersebut menggunakan match–case dengan penggabungan beberapa nilai dalam satu case menggunakan operator |. Dengan day = 4, nilai tersebut cocok dengan case 1 | 2 | 3 | 4 | 5, sehingga program mencetak \"Today is a weekday\". Teknik ini memudahkan penulisan kondisi untuk banyak nilai tanpa harus membuat beberapa case terpisah, sehingga lebih ringkas dan mudah dibaca."
   ]
  },
  {
   "cell_type": "code",
   "execution_count": 80,
   "id": "09c026e1-f742-46ab-84d8-55f419b3a332",
   "metadata": {},
   "outputs": [
    {
     "name": "stdout",
     "output_type": "stream",
     "text": [
      "A weekday in May\n"
     ]
    }
   ],
   "source": [
    "# If Statements as Guards\n",
    "month = 5\n",
    "day = 4\n",
    "match day:\n",
    "  case 1 | 2 | 3 | 4 | 5 if month == 4:\n",
    "    print(\"A weekday in April\")\n",
    "  case 1 | 2 | 3 | 4 | 5 if month == 5:\n",
    "    print(\"A weekday in May\")\n",
    "  case _:\n",
    "    print(\"No match\")"
   ]
  },
  {
   "cell_type": "markdown",
   "id": "0bf30cf3-82c9-4f82-8907-136db1557385",
   "metadata": {},
   "source": [
    "### Analisis:\n",
    "Kode tersebut menunjukkan penggunaan guard conditions dalam struktur match–case, yaitu kondisi tambahan menggunakan if pada setiap case. Variabel day bernilai 4 dan month bernilai 5. Baris pertama mengecek apakah day termasuk 1–5 dan month == 4, namun syarat bulan tidak terpenuhi. Baris kedua juga memeriksa apakah day termasuk 1–5 dan month == 5, dan karena kedua kondisi benar, program mencetak \"A weekday in May\". Jika tidak ada case yang cocok, barulah case _ akan dieksekusi sebagai default."
   ]
  }
 ],
 "metadata": {
  "kernelspec": {
   "display_name": "Python 3 (ipykernel)",
   "language": "python",
   "name": "python3"
  },
  "language_info": {
   "codemirror_mode": {
    "name": "ipython",
    "version": 3
   },
   "file_extension": ".py",
   "mimetype": "text/x-python",
   "name": "python",
   "nbconvert_exporter": "python",
   "pygments_lexer": "ipython3",
   "version": "3.13.5"
  }
 },
 "nbformat": 4,
 "nbformat_minor": 5
}
